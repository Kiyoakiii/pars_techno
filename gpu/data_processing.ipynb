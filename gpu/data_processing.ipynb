{
 "cells": [
  {
   "cell_type": "code",
   "execution_count": 317,
   "metadata": {},
   "outputs": [],
   "source": [
    "from selenium import webdriver\n",
    "import numpy as np\n",
    "\n",
    "import time\n",
    "from selenium import webdriver\n",
    "\n",
    "from selenium.webdriver.common.by import By\n",
    "\n",
    "from selenium.webdriver.support.ui import WebDriverWait\n",
    "from selenium.webdriver.support.expected_conditions import presence_of_element_located\n",
    "\n",
    "from selenium.webdriver.support import expected_conditions\n",
    "from selenium.webdriver.common.by import By\n",
    "from selenium.webdriver.support.ui import WebDriverWait\n",
    "import time\n",
    "from selenium import webdriver\n",
    "from selenium.webdriver.chrome.service import Service\n",
    "import pandas as pd"
   ]
  },
  {
   "cell_type": "code",
   "execution_count": 318,
   "metadata": {},
   "outputs": [],
   "source": [
    "from sklearn.preprocessing import LabelEncoder\n",
    "\n",
    "\n",
    "label_encoder = LabelEncoder()"
   ]
  },
  {
   "cell_type": "code",
   "execution_count": 319,
   "metadata": {},
   "outputs": [],
   "source": [
    "\n",
    "pd.set_option('display.max_columns', None)"
   ]
  },
  {
   "cell_type": "code",
   "execution_count": 320,
   "metadata": {},
   "outputs": [],
   "source": [
    "\n",
    "pd.set_option('display.max_rows', None)"
   ]
  },
  {
   "cell_type": "code",
   "execution_count": 321,
   "metadata": {},
   "outputs": [],
   "source": [
    "df1 = pd.read_csv(r'A:\\Учёба\\практика 2 курс\\data\\citilink/gpu/data.csv')\n",
    "df2 = pd.read_csv(r'A:\\Учёба\\практика 2 курс\\data\\eldorado/gpu/data.csv')"
   ]
  },
  {
   "cell_type": "code",
   "execution_count": 322,
   "metadata": {},
   "outputs": [],
   "source": [
    "df1.replace(\"есть\", 1, inplace=True)\n",
    "df2.replace(\"есть\", 1, inplace=True)\n",
    "\n",
    "df1.replace(\"да\", 1, inplace=True)\n",
    "df2.replace(\"да\", 1, inplace=True)\n",
    "\n",
    "df1.replace(\"нет\", 1, inplace=True)\n",
    "df2.replace(\"нет\", 1, inplace=True)\n",
    "\n",
    "df1.replace(\"Нет\", 1, inplace=True)\n",
    "df2.replace(\"Нет\", 1, inplace=True)\n",
    "\n",
    "df1.replace(\"Есть \", 1, inplace=True)\n",
    "df2.replace(\"Есть \", 1, inplace=True)\n",
    "\n",
    "df1.replace(\"Есть\", 1, inplace=True)\n",
    "df2.replace(\"Есть\", 1, inplace=True)"
   ]
  },
  {
   "cell_type": "code",
   "execution_count": 323,
   "metadata": {},
   "outputs": [],
   "source": [
    "df1 = df1.fillna(0)\n",
    "df2 = df2.fillna(0)"
   ]
  },
  {
   "cell_type": "code",
   "execution_count": 324,
   "metadata": {},
   "outputs": [],
   "source": [
    "columns1 = df1.columns\n",
    "columns2 = df2.columns"
   ]
  },
  {
   "cell_type": "code",
   "execution_count": 325,
   "metadata": {},
   "outputs": [
    {
     "data": {
      "text/plain": [
       "{'link',\n",
       " 'Гарантия',\n",
       " 'Длина',\n",
       " 'Количество отзывов',\n",
       " 'Количество поддерживаемых мониторов',\n",
       " 'Название',\n",
       " 'Рейтинг',\n",
       " 'Цена'}"
      ]
     },
     "execution_count": 325,
     "metadata": {},
     "output_type": "execute_result"
    }
   ],
   "source": [
    "set(columns1) & set(columns2)"
   ]
  },
  {
   "cell_type": "code",
   "execution_count": 326,
   "metadata": {},
   "outputs": [
    {
     "data": {
      "text/plain": [
       "link                                   192\n",
       "Название                               192\n",
       "Цена                                   192\n",
       "Гарантия                               187\n",
       "Вес упаковки (ед)                      187\n",
       "Габариты упаковки (ед) ДхШхВ           187\n",
       "Конструкция системы                    187\n",
       "Длина                                  187\n",
       "Система                                185\n",
       "Тип                                    185\n",
       "Разъемы дополнительного                185\n",
       "Разъемов                               184\n",
       "Поддержка                              183\n",
       "Рекомендуемая мощность блока           183\n",
       "Версия разъема                         181\n",
       "Рейтинг                                179\n",
       "Количество разъемов                    171\n",
       "Количество поддерживаемых мониторов    157\n",
       "Использование тепловых                 149\n",
       "Бренд                                  134\n",
       "Поддержка трассировки лучей            132\n",
       "Количество отзывов                     126\n",
       "Толщина видеокарты                     120\n",
       "Высота видеокарты                      112\n",
       "Поддержка DLSS                         105\n",
       "Поддержка технологий NVIDIA             97\n",
       "OverClock                               84\n",
       "Максимальное                            82\n",
       "Разъемы                                 33\n",
       "Lite Hash Rate                          30\n",
       "Особенности                             17\n",
       "Низкопрофильная видеокарта (Low         11\n",
       "Количество разъемов D-SUB                5\n",
       "Низкопрофильная планка                   5\n",
       "Технология объединения                   5\n",
       "Разъем DVI                               3\n",
       "Количество разъемов Mini                 1\n",
       "Разъемов USB (Type-C)                    0\n",
       "dtype: int64"
      ]
     },
     "execution_count": 326,
     "metadata": {},
     "output_type": "execute_result"
    }
   ],
   "source": [
    "df1[df1.ne(0)].count().sort_values(ascending=False)\n"
   ]
  },
  {
   "cell_type": "code",
   "execution_count": 327,
   "metadata": {},
   "outputs": [
    {
     "data": {
      "text/plain": [
       "{'Lite Hash Rate',\n",
       " 'OverClock',\n",
       " 'link',\n",
       " 'Бренд',\n",
       " 'Версия разъема',\n",
       " 'Вес упаковки (ед)',\n",
       " 'Высота видеокарты',\n",
       " 'Габариты упаковки (ед) ДхШхВ',\n",
       " 'Гарантия',\n",
       " 'Длина',\n",
       " 'Использование тепловых',\n",
       " 'Количество отзывов',\n",
       " 'Количество поддерживаемых мониторов',\n",
       " 'Количество разъемов',\n",
       " 'Количество разъемов D-SUB',\n",
       " 'Количество разъемов Mini',\n",
       " 'Конструкция системы',\n",
       " 'Максимальное',\n",
       " 'Название',\n",
       " 'Низкопрофильная видеокарта (Low',\n",
       " 'Низкопрофильная планка',\n",
       " 'Особенности',\n",
       " 'Поддержка',\n",
       " 'Поддержка DLSS',\n",
       " 'Поддержка технологий NVIDIA',\n",
       " 'Поддержка трассировки лучей',\n",
       " 'Разъем DVI',\n",
       " 'Разъемов',\n",
       " 'Разъемов USB (Type-C)',\n",
       " 'Разъемы',\n",
       " 'Разъемы дополнительного',\n",
       " 'Рейтинг',\n",
       " 'Рекомендуемая мощность блока',\n",
       " 'Система',\n",
       " 'Технология объединения',\n",
       " 'Тип',\n",
       " 'Толщина видеокарты',\n",
       " 'Цена'}"
      ]
     },
     "execution_count": 327,
     "metadata": {},
     "output_type": "execute_result"
    }
   ],
   "source": [
    "set(columns1)"
   ]
  },
  {
   "cell_type": "code",
   "execution_count": 328,
   "metadata": {},
   "outputs": [
    {
     "data": {
      "text/plain": [
       "{'DVI',\n",
       " 'DisplayPort',\n",
       " 'HDMI',\n",
       " 'OverClock Edition',\n",
       " 'Unnamed: 42',\n",
       " 'Unnamed: 5',\n",
       " 'VGA (D-Sub)',\n",
       " 'link',\n",
       " 'Версия шейдеров',\n",
       " 'Вес',\n",
       " 'Высота',\n",
       " 'Гарантия',\n",
       " 'Глубина',\n",
       " 'Графический процессор',\n",
       " 'Диск с ПО',\n",
       " 'Длина',\n",
       " 'Дополнительная информация',\n",
       " 'Интерфейс',\n",
       " 'Кодовое название графического процессора',\n",
       " 'Количество вентиляторов',\n",
       " 'Количество графических процессоров',\n",
       " 'Количество занимаемых слотов',\n",
       " 'Количество отзывов',\n",
       " 'Количество поддерживаемых мониторов',\n",
       " 'Количество универсальных процессоров',\n",
       " 'Максимальная рабочая температура',\n",
       " 'Максимальная степень FSAA',\n",
       " 'Максимальная степень анизотропной фильтрации',\n",
       " 'Максимальная частота графического процессора',\n",
       " 'Максимальное разрешение',\n",
       " 'Название',\n",
       " 'Название системы охлаждения',\n",
       " 'Необходимость дополнительного питания',\n",
       " 'Объем видеопамяти',\n",
       " 'Переходник питания',\n",
       " 'Поддержка API',\n",
       " 'Поддержка SLI/CrossFire',\n",
       " 'Поддержка VR',\n",
       " 'Поддержка ОС',\n",
       " 'Поддержка технологий',\n",
       " 'Подсветка',\n",
       " 'Потребляемая мощность',\n",
       " 'Производитель графического процессора',\n",
       " 'Разрядность шины видеопамяти',\n",
       " 'Разъем дополнительного питания',\n",
       " 'Рейтинг',\n",
       " 'Рекомендованная мощность блока питания',\n",
       " 'Система охлаждения',\n",
       " 'Страна',\n",
       " 'Тепловыделение',\n",
       " 'Техпроцесс',\n",
       " 'Тип видеокарты',\n",
       " 'Тип видеопамяти',\n",
       " 'Тип поставки',\n",
       " 'Цена',\n",
       " 'Частота RAMDAC',\n",
       " 'Частота видеопамяти',\n",
       " 'Частота графического процессора',\n",
       " 'Число блоков растеризации',\n",
       " 'Число текстурных блоков',\n",
       " 'Число универсальных процессоров'}"
      ]
     },
     "execution_count": 328,
     "metadata": {},
     "output_type": "execute_result"
    }
   ],
   "source": [
    "set(columns2)"
   ]
  },
  {
   "cell_type": "code",
   "execution_count": 329,
   "metadata": {},
   "outputs": [],
   "source": [
    "\n",
    "name_old = 'Рекомендованная мощность блока питания'\n",
    "name_new = 'Рекомендуемая мощность блока'\n",
    "df2.rename(columns={name_old: name_new}, inplace=True)"
   ]
  },
  {
   "cell_type": "code",
   "execution_count": 330,
   "metadata": {},
   "outputs": [],
   "source": [
    "name_old = 'OverClock Edition'\n",
    "name_new = 'OverClock'\n",
    "df2.rename(columns={name_old: name_new}, inplace=True)"
   ]
  },
  {
   "cell_type": "code",
   "execution_count": 331,
   "metadata": {},
   "outputs": [],
   "source": [
    "\n",
    "name_old = 'Модель процессора'\n",
    "name_new = 'Процессор'\n",
    "df2.rename(columns={name_old: name_new}, inplace=True)"
   ]
  },
  {
   "cell_type": "code",
   "execution_count": 332,
   "metadata": {},
   "outputs": [],
   "source": [
    "df1 = df1.fillna(0)\n",
    "df2 = df2.fillna(0)"
   ]
  },
  {
   "cell_type": "code",
   "execution_count": 333,
   "metadata": {},
   "outputs": [
    {
     "name": "stdout",
     "output_type": "stream",
     "text": [
      "<class 'pandas.core.frame.DataFrame'>\n",
      "RangeIndex: 192 entries, 0 to 191\n",
      "Data columns (total 10 columns):\n",
      " #   Column                               Non-Null Count  Dtype  \n",
      "---  ------                               --------------  -----  \n",
      " 0   Количество отзывов                   192 non-null    float64\n",
      " 1   link                                 192 non-null    object \n",
      " 2   Рейтинг                              192 non-null    object \n",
      " 3   Длина                                192 non-null    object \n",
      " 4   Название                             192 non-null    object \n",
      " 5   Рекомендуемая мощность блока         192 non-null    object \n",
      " 6   Гарантия                             192 non-null    object \n",
      " 7   OverClock                            192 non-null    float64\n",
      " 8   Количество поддерживаемых мониторов  192 non-null    float64\n",
      " 9   Цена                                 192 non-null    object \n",
      "dtypes: float64(3), object(7)\n",
      "memory usage: 15.1+ KB\n"
     ]
    },
    {
     "name": "stderr",
     "output_type": "stream",
     "text": [
      "C:\\Users\\ilya\\AppData\\Local\\Temp\\ipykernel_15196\\3155891446.py:3: FutureWarning: Passing a set as an indexer is deprecated and will raise in a future version. Use a list instead.\n",
      "  df_full = df1.loc[:, column]\n"
     ]
    }
   ],
   "source": [
    "column = set(df1.columns) & set(df2.columns)\n",
    "\n",
    "df_full = df1.loc[:, column]\n",
    "\n",
    "df_full.info()"
   ]
  },
  {
   "cell_type": "code",
   "execution_count": 334,
   "metadata": {},
   "outputs": [],
   "source": [
    "df1['Количество отзывов'] = pd.DataFrame({'Количество отзывов': np.random.normal(loc=10, scale=5, size=100)}).round(0)\n",
    "df2['Количество отзывов'] = pd.DataFrame({'Количество отзывов': np.random.normal(loc=10, scale=5, size=100)}).round(0)\n",
    "\n",
    "df1['Количество отзывов'] = df1['Количество отзывов'].clip(1, 30)\n",
    "df1['Количество отзывов'] = df1['Количество отзывов'].clip(1, 30)"
   ]
  },
  {
   "cell_type": "code",
   "execution_count": 335,
   "metadata": {},
   "outputs": [],
   "source": [
    "column = 'Цена'"
   ]
  },
  {
   "cell_type": "code",
   "execution_count": 336,
   "metadata": {},
   "outputs": [],
   "source": [
    "def func(s):\n",
    "    try:\n",
    "        if \"Нет в наличии\" in s:\n",
    "            return 0.0\n",
    "        elif \"₽\" in s:\n",
    "            return float(s.replace(\"₽\", \"\").replace(\" \", \"\").replace(\",\", \".\"))\n",
    "        elif \"р.\" in s:\n",
    "            return int(s.replace(\"р.\", \"\").replace(\" \", \"\"))\n",
    "        else:\n",
    "            return int(s.replace(\" \", \"\"))\n",
    " \n",
    "    except Exception:\n",
    "        pass\n",
    "\n",
    "\n",
    "\n",
    "df1[column] = df1[column].apply(func)\n",
    "df2[column] = df2[column].apply(func)"
   ]
  },
  {
   "cell_type": "code",
   "execution_count": 337,
   "metadata": {},
   "outputs": [],
   "source": [
    "column = 'Рейтинг'"
   ]
  },
  {
   "cell_type": "code",
   "execution_count": 338,
   "metadata": {},
   "outputs": [],
   "source": [
    "def func(s):\n",
    "    try:\n",
    "        if s == 0:\n",
    "            return 0.0\n",
    "        \n",
    "        if \"Код товара\" in s:\n",
    "            return 0.0\n",
    "        elif \"Обзор\" in s:\n",
    "            return float(s.split(\" Обзор\")[0])\n",
    "        else:\n",
    "            return float(s)\n",
    "\n",
    "    except Exception:\n",
    "        pass\n",
    "\n",
    "\n",
    "\n",
    "df1[column] = df1[column].apply(func)"
   ]
  },
  {
   "cell_type": "code",
   "execution_count": 339,
   "metadata": {},
   "outputs": [],
   "source": [
    "df2['Рейтинг'] = pd.DataFrame({'Рейтинг': np.random.normal(loc=4, scale=1, size=100)}).round(1)\n",
    "df1['Рейтинг'] = pd.DataFrame({'Рейтинг': np.random.normal(loc=4, scale=1, size=100)}).round(1)\n",
    "\n",
    "\n",
    "df1['Рейтинг'] = df1['Рейтинг'].clip(2, 5)\n",
    "\n",
    "df2['Рейтинг'] = df2['Рейтинг'].clip(2, 5)"
   ]
  },
  {
   "cell_type": "code",
   "execution_count": 340,
   "metadata": {},
   "outputs": [
    {
     "name": "stdout",
     "output_type": "stream",
     "text": [
      "[2.6 4.8 2.3 3.  3.8 2.7 3.3 3.2 2.4 5.  4.9 3.7 3.4 3.5 4.5 4.  4.6 4.4\n",
      " 2.1 4.2 3.6 4.1 3.1 2.9 4.3 3.9 2.2 2.  nan]\n",
      "[3.8 5.  4.3 4.  4.8 3.3 4.6 4.2 3.7 4.4 4.9 4.7 4.5 2.9 3.1 4.1 2.6 3.9\n",
      " 2.3 3.4 2.7 3.2 3.6 2.  2.8 3.  3.5 2.2 nan]\n"
     ]
    }
   ],
   "source": [
    "print(df2[column][df2[column] != 0 ].unique())\n",
    "print(df1[column][df1[column] != 0 ].unique())"
   ]
  },
  {
   "cell_type": "code",
   "execution_count": 341,
   "metadata": {},
   "outputs": [],
   "source": [
    "column = 'Гарантия'"
   ]
  },
  {
   "cell_type": "code",
   "execution_count": 342,
   "metadata": {},
   "outputs": [],
   "source": [
    "def func(s):\n",
    "    try :\n",
    "        if s == 0:\n",
    "            return 0.0\n",
    "        elif \"год\" in s:\n",
    "            return int(s.split(\" \")[0])* 12\n",
    "        elif \"мес.\" in s:\n",
    "            return int(s.split(\" \")[0])\n",
    "\n",
    "\n",
    "    except Exception:\n",
    "        pass\n",
    "\n",
    "df1[column] = df1[column].apply(func)\n",
    "df2[column] = df2[column].apply(func)"
   ]
  },
  {
   "cell_type": "code",
   "execution_count": 343,
   "metadata": {},
   "outputs": [
    {
     "name": "stdout",
     "output_type": "stream",
     "text": [
      "[36. 24. 12. 48. nan]\n",
      "[36. 24. 12.  6.]\n"
     ]
    }
   ],
   "source": [
    "print(df2[column][df2[column] != 0 ].unique())\n",
    "print(df1[column][df1[column] != 0 ].unique())"
   ]
  },
  {
   "cell_type": "code",
   "execution_count": 344,
   "metadata": {},
   "outputs": [],
   "source": [
    "column = 'Название'\n",
    "\n",
    "df1[column] = df1[column].str.lower()\n",
    "df2[column] = df2[column].str.lower()"
   ]
  },
  {
   "cell_type": "code",
   "execution_count": 345,
   "metadata": {},
   "outputs": [],
   "source": [
    "def func(s):\n",
    "    try:\n",
    "        if \",\" in s:\n",
    "            return s.split(\",\")[0]\n",
    "        else:\n",
    "            return s\n",
    "    except Exception:\n",
    "        pass\n",
    "\n",
    "\n",
    "\n",
    "df1[column] = df1[column].apply(func)\n",
    "df2[column] = df2[column].apply(func)"
   ]
  },
  {
   "cell_type": "code",
   "execution_count": 346,
   "metadata": {},
   "outputs": [
    {
     "data": {
      "text/plain": [
       "'видеокарта palit nvidia geforce gtx 1660super pa-gtx1660super gp 6g 6гб gddr6'"
      ]
     },
     "execution_count": 346,
     "metadata": {},
     "output_type": "execute_result"
    }
   ],
   "source": [
    "df1[column][2]"
   ]
  },
  {
   "cell_type": "code",
   "execution_count": 347,
   "metadata": {},
   "outputs": [
    {
     "data": {
      "text/plain": [
       "'видеокарта msi gt210 pcie16 1gb gddr3 (n210-1gd3/lp)'"
      ]
     },
     "execution_count": 347,
     "metadata": {},
     "output_type": "execute_result"
    }
   ],
   "source": [
    "df2[column][1]"
   ]
  },
  {
   "cell_type": "code",
   "execution_count": 348,
   "metadata": {},
   "outputs": [],
   "source": [
    "column = 'Длина'"
   ]
  },
  {
   "cell_type": "code",
   "execution_count": 349,
   "metadata": {},
   "outputs": [],
   "source": [
    "def func(s):\n",
    "    try:\n",
    "        if \"мм\" in s:\n",
    "            return float(s.split(\" мм\")[0])\n",
    "        else:\n",
    "            return s\n",
    "    except Exception:\n",
    "        pass\n",
    "\n",
    "\n",
    "\n",
    "df1[column] = df1[column].apply(func)\n",
    "df2[column] = df2[column].apply(func)"
   ]
  },
  {
   "cell_type": "code",
   "execution_count": 350,
   "metadata": {},
   "outputs": [
    {
     "name": "stdout",
     "output_type": "stream",
     "text": [
      "[152.   157.   102.   146.   249.   355.5  249.9  272.   281.   319.\n",
      " 280.   151.   235.   356.   335.   300.   278.   391.   144.   191.\n",
      " 357.   166.   316.   342.   115.   329.4  225.65 323.   305.   294.\n",
      " 313.   329.   301.   204.   112.   260.   310.   282.   340.   232.\n",
      " 317.   310.05 231.9  317.8  231.   213.      nan 356.1  348.2  238.\n",
      " 306.8  348.   336.   326.5  331.   295.   327.   352.   170.   184.\n",
      " 182.   242.   183.   167.   169.   223.   279.   277.   243.   275.\n",
      " 160.   285.   248.   252.   229.   220.   175.   290.   153.   172.\n",
      " 240.   163.   145.   137.   298.   219.   123.   150.   177.   155.\n",
      " 269.   190.   203.   246.   192.   287.    69.   111.   105.   178.\n",
      " 180.   245.   212.   168.   330.   119.   266.   292.   247.   200.\n",
      " 320.   286.   339.   193.   202.   265.   317.6  209.6  267.  ]\n",
      "[245.   235.   280.   200.   294.   278.   247.   276.   145.   323.\n",
      " 170.   286.   305.   282.   242.   115.   166.   232.   172.   177.\n",
      " 230.   302.   337.   281.   320.   162.   316.   329.4  147.   204.\n",
      " 304.   192.   178.   167.7  213.   296.   340.   215.   267.   336.\n",
      " 225.65 184.   228.   193.   327.   201.   328.9  198.   226.   165.\n",
      " 342.   295.   224.   338.   182.   250.   249.9  135.   169.   175.\n",
      " 243.   308.   144.      nan 203.   174.   191.   205.   272.   267.01\n",
      " 236.   155.   300.   261.   331.   266.7  220.   348.2  301.   212.  ]\n"
     ]
    }
   ],
   "source": [
    "print(df2[column][df2[column] != 0 ].unique())\n",
    "print(df1[column][df1[column] != 0 ].unique())"
   ]
  },
  {
   "cell_type": "code",
   "execution_count": 351,
   "metadata": {},
   "outputs": [],
   "source": [
    "column = 'Рекомендуемая мощность блока'"
   ]
  },
  {
   "cell_type": "code",
   "execution_count": 352,
   "metadata": {},
   "outputs": [],
   "source": [
    "def func(s):\n",
    "    try:\n",
    "        if \"Вт\" in s:\n",
    "            return float(s.split(\" Вт\")[0])\n",
    "        else:\n",
    "            return s\n",
    "    except Exception:\n",
    "        pass\n",
    "\n",
    "\n",
    "\n",
    "df1[column] = df1[column].apply(func)\n",
    "df2[column] = df2[column].apply(func)"
   ]
  },
  {
   "cell_type": "code",
   "execution_count": 353,
   "metadata": {},
   "outputs": [
    {
     "name": "stdout",
     "output_type": "stream",
     "text": [
      "[ 300.  650.  750.  500.  350.   nan  550.  850.  600.  450.  700. 1000.\n",
      "  400.  800.]\n",
      "[ 550.  450.  650.  700.  300.  350.  600.  750.  850. 1000.  500.   nan\n",
      "  400.  800.]\n"
     ]
    }
   ],
   "source": [
    "print(df2[column][df2[column] != 0 ].unique())\n",
    "print(df1[column][df1[column] != 0 ].unique())"
   ]
  },
  {
   "cell_type": "code",
   "execution_count": 354,
   "metadata": {},
   "outputs": [
    {
     "name": "stdout",
     "output_type": "stream",
     "text": [
      "<class 'pandas.core.frame.DataFrame'>\n",
      "RangeIndex: 192 entries, 0 to 191\n",
      "Data columns (total 10 columns):\n",
      " #   Column                               Non-Null Count  Dtype  \n",
      "---  ------                               --------------  -----  \n",
      " 0   Количество отзывов                   100 non-null    float64\n",
      " 1   link                                 192 non-null    object \n",
      " 2   Рейтинг                              100 non-null    float64\n",
      " 3   Длина                                187 non-null    float64\n",
      " 4   Название                             192 non-null    object \n",
      " 5   Рекомендуемая мощность блока         183 non-null    float64\n",
      " 6   Гарантия                             192 non-null    float64\n",
      " 7   OverClock                            192 non-null    float64\n",
      " 8   Количество поддерживаемых мониторов  192 non-null    float64\n",
      " 9   Цена                                 192 non-null    float64\n",
      "dtypes: float64(8), object(2)\n",
      "memory usage: 15.1+ KB\n"
     ]
    },
    {
     "name": "stderr",
     "output_type": "stream",
     "text": [
      "C:\\Users\\ilya\\AppData\\Local\\Temp\\ipykernel_15196\\3155891446.py:3: FutureWarning: Passing a set as an indexer is deprecated and will raise in a future version. Use a list instead.\n",
      "  df_full = df1.loc[:, column]\n"
     ]
    }
   ],
   "source": [
    "column = set(df1.columns) & set(df2.columns)\n",
    "\n",
    "df_full = df1.loc[:, column]\n",
    "\n",
    "df_full.info()"
   ]
  },
  {
   "cell_type": "code",
   "execution_count": 355,
   "metadata": {},
   "outputs": [
    {
     "name": "stdout",
     "output_type": "stream",
     "text": [
      "<class 'pandas.core.frame.DataFrame'>\n",
      "RangeIndex: 192 entries, 0 to 191\n",
      "Data columns (total 9 columns):\n",
      " #   Column                               Non-Null Count  Dtype  \n",
      "---  ------                               --------------  -----  \n",
      " 0   Количество отзывов                   100 non-null    float64\n",
      " 1   Рейтинг                              100 non-null    float64\n",
      " 2   Длина                                187 non-null    float64\n",
      " 3   Название                             192 non-null    object \n",
      " 4   Рекомендуемая мощность блока         183 non-null    float64\n",
      " 5   Гарантия                             192 non-null    float64\n",
      " 6   OverClock                            192 non-null    float64\n",
      " 7   Количество поддерживаемых мониторов  192 non-null    float64\n",
      " 8   Цена                                 192 non-null    float64\n",
      "dtypes: float64(8), object(1)\n",
      "memory usage: 13.6+ KB\n"
     ]
    },
    {
     "name": "stderr",
     "output_type": "stream",
     "text": [
      "C:\\Users\\ilya\\AppData\\Local\\Temp\\ipykernel_15196\\3383453024.py:3: FutureWarning: Passing a set as an indexer is deprecated and will raise in a future version. Use a list instead.\n",
      "  df_full = df1.loc[:, column]\n"
     ]
    }
   ],
   "source": [
    "column = set(df1.columns) & set(df2.columns)\n",
    "\n",
    "df_full = df1.loc[:, column]\n",
    "\n",
    "df_full.drop(columns = ['link'], inplace = True)\n",
    "\n",
    "df_full.info()"
   ]
  },
  {
   "cell_type": "code",
   "execution_count": 356,
   "metadata": {},
   "outputs": [],
   "source": [
    "df1 = df1.fillna(0)\n",
    "df2 = df2.fillna(0)"
   ]
  },
  {
   "cell_type": "code",
   "execution_count": 357,
   "metadata": {},
   "outputs": [],
   "source": [
    "column = df_full.columns\n",
    "\n",
    "df1 = df1.loc[:, column]\n",
    "df2 = df2.loc[:, column]\n",
    "\n",
    "df1.to_csv(f'data_citilink.csv', index=False)\n",
    "df2.to_csv(f'data_eldorado.csv', index=False)"
   ]
  },
  {
   "cell_type": "code",
   "execution_count": null,
   "metadata": {},
   "outputs": [],
   "source": []
  }
 ],
 "metadata": {
  "kernelspec": {
   "display_name": "Python 3",
   "language": "python",
   "name": "python3"
  },
  "language_info": {
   "codemirror_mode": {
    "name": "ipython",
    "version": 3
   },
   "file_extension": ".py",
   "mimetype": "text/x-python",
   "name": "python",
   "nbconvert_exporter": "python",
   "pygments_lexer": "ipython3",
   "version": "3.10.5"
  },
  "orig_nbformat": 4
 },
 "nbformat": 4,
 "nbformat_minor": 2
}
