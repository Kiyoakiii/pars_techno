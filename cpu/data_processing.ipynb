{
 "cells": [
  {
   "cell_type": "code",
   "execution_count": 2383,
   "metadata": {},
   "outputs": [],
   "source": [
    "from selenium import webdriver\n",
    "import numpy as np\n",
    "\n",
    "import time\n",
    "from selenium import webdriver\n",
    "import re\n",
    "from selenium.webdriver.common.by import By\n",
    "\n",
    "from selenium.webdriver.support.ui import WebDriverWait\n",
    "from selenium.webdriver.support.expected_conditions import presence_of_element_located\n",
    "\n",
    "from selenium.webdriver.support import expected_conditions\n",
    "from selenium.webdriver.common.by import By\n",
    "from selenium.webdriver.support.ui import WebDriverWait\n",
    "import time\n",
    "from selenium import webdriver\n",
    "from selenium.webdriver.chrome.service import Service\n",
    "import pandas as pd"
   ]
  },
  {
   "cell_type": "code",
   "execution_count": 2384,
   "metadata": {},
   "outputs": [],
   "source": [
    "from sklearn.preprocessing import LabelEncoder\n",
    "\n",
    "\n",
    "label_encoder = LabelEncoder()"
   ]
  },
  {
   "cell_type": "code",
   "execution_count": 2385,
   "metadata": {},
   "outputs": [],
   "source": [
    "\n",
    "pd.set_option('display.max_columns', None)"
   ]
  },
  {
   "cell_type": "code",
   "execution_count": 2386,
   "metadata": {},
   "outputs": [],
   "source": [
    "\n",
    "pd.set_option('display.max_rows', None)"
   ]
  },
  {
   "cell_type": "code",
   "execution_count": 2387,
   "metadata": {},
   "outputs": [],
   "source": [
    "df1 = pd.read_csv(r'A:\\Учёба\\практика 2 курс\\data\\citilink/cpu/data.csv')\n",
    "df2 = pd.read_csv(r'A:\\Учёба\\практика 2 курс\\data\\eldorado/cpu/data.csv')"
   ]
  },
  {
   "cell_type": "code",
   "execution_count": 2388,
   "metadata": {},
   "outputs": [],
   "source": [
    "df1.replace(\"есть\", 1, inplace=True)\n",
    "df2.replace(\"есть\", 1, inplace=True)\n",
    "\n",
    "df1.replace(\"да\", 1, inplace=True)\n",
    "df2.replace(\"да\", 1, inplace=True)\n",
    "\n",
    "\n",
    "df2.replace(\"не поддерживается\", 0, inplace=True)\n",
    "df1.replace(\"не поддерживается\", 0, inplace=True)\n",
    "\n",
    "df2.replace(\"поддерживается\", 1, inplace=True)\n",
    "df1.replace(\"поддерживается\", 1, inplace=True)\n",
    "\n",
    "\n",
    "df2.replace(\"нет\", 0, inplace=True)\n",
    "df1.replace(\"нет\", 0, inplace=True)\n",
    "\n",
    "df2.replace(\"отсутствует\", 0, inplace=True)\n",
    "df1.replace(\"отсутствует\", 0, inplace=True)\n",
    "\n",
    "df1.replace(\"Нет\", 0, inplace=True)\n",
    "df2.replace(\"Нет\", 0, inplace=True)\n",
    "\n",
    "df1.replace(\"Есть \", 1, inplace=True)\n",
    "df2.replace(\"Есть \", 1, inplace=True)\n",
    "\n",
    "df1.replace(\"Есть\", 1, inplace=True)\n",
    "df2.replace(\"Есть\", 1, inplace=True)"
   ]
  },
  {
   "cell_type": "code",
   "execution_count": 2389,
   "metadata": {},
   "outputs": [],
   "source": [
    "df1 = df1.fillna(0)\n",
    "df2 = df2.fillna(0)"
   ]
  },
  {
   "cell_type": "code",
   "execution_count": 2390,
   "metadata": {},
   "outputs": [],
   "source": [
    "columns1 = df1.columns\n",
    "columns2 = df2.columns"
   ]
  },
  {
   "cell_type": "code",
   "execution_count": 2391,
   "metadata": {},
   "outputs": [
    {
     "data": {
      "text/html": [
       "<div>\n",
       "<style scoped>\n",
       "    .dataframe tbody tr th:only-of-type {\n",
       "        vertical-align: middle;\n",
       "    }\n",
       "\n",
       "    .dataframe tbody tr th {\n",
       "        vertical-align: top;\n",
       "    }\n",
       "\n",
       "    .dataframe thead th {\n",
       "        text-align: right;\n",
       "    }\n",
       "</style>\n",
       "<table border=\"1\" class=\"dataframe\">\n",
       "  <thead>\n",
       "    <tr style=\"text-align: right;\">\n",
       "      <th></th>\n",
       "      <th>link</th>\n",
       "      <th>Рейтинг</th>\n",
       "      <th>Количество отзывов</th>\n",
       "      <th>Название</th>\n",
       "      <th>Цена</th>\n",
       "      <th>Бренд</th>\n",
       "      <th>Максимальный объем памяти</th>\n",
       "      <th>Тип памяти</th>\n",
       "      <th>Поддержка частот памяти</th>\n",
       "      <th>Количество каналов памяти</th>\n",
       "      <th>Пропускная способность памяти</th>\n",
       "      <th>Поддержка памяти ECC</th>\n",
       "      <th>Версия PCI Express</th>\n",
       "      <th>Количество каналов PCI Express</th>\n",
       "      <th>Конфигурация PCI Express</th>\n",
       "      <th>Встроенное графическое ядро</th>\n",
       "      <th>Вес упаковки (ед)</th>\n",
       "      <th>Гарантия</th>\n",
       "      <th>Модель графического ядра</th>\n",
       "      <th>Частота графического ядра</th>\n",
       "      <th>Габариты упаковки (ед) ДхШхВ</th>\n",
       "      <th>Максимальный объем видеопамяти</th>\n",
       "      <th>Поддержка WiDi</th>\n",
       "      <th>Особенности</th>\n",
       "    </tr>\n",
       "  </thead>\n",
       "  <tbody>\n",
       "    <tr>\n",
       "      <th>0</th>\n",
       "      <td>https://www.citilink.ru/product/processor-inte...</td>\n",
       "      <td>4.9</td>\n",
       "      <td>18.0</td>\n",
       "      <td>Процессор Intel Core i5 12400F, LGA 1700, OEM</td>\n",
       "      <td>16 790</td>\n",
       "      <td>INTEL</td>\n",
       "      <td>128 ГБ</td>\n",
       "      <td>DDR5/ DDR4</td>\n",
       "      <td>DDR5 4800 МГц DDR4 3200 МГц</td>\n",
       "      <td>2.0</td>\n",
       "      <td>76.8 GB/s</td>\n",
       "      <td>0.0</td>\n",
       "      <td>PCI Express 5.0</td>\n",
       "      <td>20.0</td>\n",
       "      <td>1x16+4, 2x8+4</td>\n",
       "      <td>0.0</td>\n",
       "      <td>0.053 кг</td>\n",
       "      <td>12 мес.</td>\n",
       "      <td>0</td>\n",
       "      <td>0</td>\n",
       "      <td>0</td>\n",
       "      <td>0</td>\n",
       "      <td>0.0</td>\n",
       "      <td>0</td>\n",
       "    </tr>\n",
       "    <tr>\n",
       "      <th>1</th>\n",
       "      <td>https://www.citilink.ru/product/processor-amd-...</td>\n",
       "      <td>4.9</td>\n",
       "      <td>32.0</td>\n",
       "      <td>Процессор AMD Ryzen 5 3600, SocketAM4, OEM [10...</td>\n",
       "      <td>8 790₽</td>\n",
       "      <td>AMD</td>\n",
       "      <td>0</td>\n",
       "      <td>DDR4</td>\n",
       "      <td>3200 МГц</td>\n",
       "      <td>2.0</td>\n",
       "      <td>0</td>\n",
       "      <td>0.0</td>\n",
       "      <td>PCI Express 4.0</td>\n",
       "      <td>16.0</td>\n",
       "      <td>0</td>\n",
       "      <td>0.0</td>\n",
       "      <td>0.08 кг</td>\n",
       "      <td>12 мес.</td>\n",
       "      <td>0</td>\n",
       "      <td>0</td>\n",
       "      <td>0</td>\n",
       "      <td>0</td>\n",
       "      <td>0.0</td>\n",
       "      <td>0</td>\n",
       "    </tr>\n",
       "    <tr>\n",
       "      <th>2</th>\n",
       "      <td>https://www.citilink.ru/product/processor-inte...</td>\n",
       "      <td>4.9</td>\n",
       "      <td>23.0</td>\n",
       "      <td>Процессор Intel Core i3 12100F, LGA 1700, OEM</td>\n",
       "      <td>8 990₽</td>\n",
       "      <td>INTEL</td>\n",
       "      <td>128 ГБ</td>\n",
       "      <td>DDR5/ DDR4</td>\n",
       "      <td>DDR5 4800 МГц DDR4 3200 МГц</td>\n",
       "      <td>2.0</td>\n",
       "      <td>76.8 GB/s</td>\n",
       "      <td>0.0</td>\n",
       "      <td>PCI Express 5.0</td>\n",
       "      <td>20.0</td>\n",
       "      <td>1x16+4, 2x8+4</td>\n",
       "      <td>0.0</td>\n",
       "      <td>0.053 кг</td>\n",
       "      <td>12 мес.</td>\n",
       "      <td>0</td>\n",
       "      <td>0</td>\n",
       "      <td>0</td>\n",
       "      <td>0</td>\n",
       "      <td>0.0</td>\n",
       "      <td>0</td>\n",
       "    </tr>\n",
       "    <tr>\n",
       "      <th>3</th>\n",
       "      <td>https://www.citilink.ru/product/processor-amd-...</td>\n",
       "      <td>4.8</td>\n",
       "      <td>13.0</td>\n",
       "      <td>Процессор AMD Ryzen 5 5600G, SocketAM4, OEM [1...</td>\n",
       "      <td>11 990₽</td>\n",
       "      <td>AMD</td>\n",
       "      <td>128 ГБ</td>\n",
       "      <td>DDR4</td>\n",
       "      <td>3200 МГц</td>\n",
       "      <td>2.0</td>\n",
       "      <td>0</td>\n",
       "      <td>0.0</td>\n",
       "      <td>PCI Express 3.0</td>\n",
       "      <td>16.0</td>\n",
       "      <td>0</td>\n",
       "      <td>1.0</td>\n",
       "      <td>0.053 кг</td>\n",
       "      <td>12 мес.</td>\n",
       "      <td>AMD Radeon</td>\n",
       "      <td>1900 МГц</td>\n",
       "      <td>0.04x0.03x0.005 м</td>\n",
       "      <td>0</td>\n",
       "      <td>0.0</td>\n",
       "      <td>0</td>\n",
       "    </tr>\n",
       "    <tr>\n",
       "      <th>4</th>\n",
       "      <td>https://www.citilink.ru/product/processor-amd-...</td>\n",
       "      <td>5</td>\n",
       "      <td>26.0</td>\n",
       "      <td>Процессор AMD Ryzen 5 5600X, SocketAM4, OEM [1...</td>\n",
       "      <td>15 990₽</td>\n",
       "      <td>AMD</td>\n",
       "      <td>128 ГБ</td>\n",
       "      <td>DDR4</td>\n",
       "      <td>3200 МГц</td>\n",
       "      <td>2.0</td>\n",
       "      <td>0</td>\n",
       "      <td>0.0</td>\n",
       "      <td>PCI Express 4.0</td>\n",
       "      <td>20.0</td>\n",
       "      <td>0</td>\n",
       "      <td>0.0</td>\n",
       "      <td>0.102 кг</td>\n",
       "      <td>12 мес.</td>\n",
       "      <td>0</td>\n",
       "      <td>0</td>\n",
       "      <td>0</td>\n",
       "      <td>0</td>\n",
       "      <td>0.0</td>\n",
       "      <td>0</td>\n",
       "    </tr>\n",
       "    <tr>\n",
       "      <th>5</th>\n",
       "      <td>https://www.citilink.ru/product/processor-inte...</td>\n",
       "      <td>5</td>\n",
       "      <td>5.0</td>\n",
       "      <td>Процессор Intel Core i5 12400, LGA 1700, OEM</td>\n",
       "      <td>16 990₽</td>\n",
       "      <td>INTEL</td>\n",
       "      <td>128 ГБ</td>\n",
       "      <td>DDR5/ DDR4</td>\n",
       "      <td>DDR5 4800 МГц DDR4 3200 МГц</td>\n",
       "      <td>2.0</td>\n",
       "      <td>76.8 GB/s</td>\n",
       "      <td>0.0</td>\n",
       "      <td>PCI Express 5.0</td>\n",
       "      <td>20.0</td>\n",
       "      <td>1x16+4, 2x8+4</td>\n",
       "      <td>1.0</td>\n",
       "      <td>0.066 кг</td>\n",
       "      <td>12 мес.</td>\n",
       "      <td>Intel UHD Graphics 730</td>\n",
       "      <td>300 МГц и 1450 МГц Turbo</td>\n",
       "      <td>0</td>\n",
       "      <td>0</td>\n",
       "      <td>0.0</td>\n",
       "      <td>0</td>\n",
       "    </tr>\n",
       "    <tr>\n",
       "      <th>6</th>\n",
       "      <td>https://www.citilink.ru/product/processor-inte...</td>\n",
       "      <td>5</td>\n",
       "      <td>27.0</td>\n",
       "      <td>Процессор Intel Core i5 11400F, LGA 1200, OEM</td>\n",
       "      <td>12 490₽</td>\n",
       "      <td>INTEL</td>\n",
       "      <td>128 ГБ</td>\n",
       "      <td>DDR4</td>\n",
       "      <td>3200 МГц</td>\n",
       "      <td>2.0</td>\n",
       "      <td>50 GB/s</td>\n",
       "      <td>0.0</td>\n",
       "      <td>PCI Express 4.0</td>\n",
       "      <td>20.0</td>\n",
       "      <td>1x16+1x4, 2x8+1x4, 1x8+3x4</td>\n",
       "      <td>0.0</td>\n",
       "      <td>0.039 кг</td>\n",
       "      <td>12 мес.</td>\n",
       "      <td>0</td>\n",
       "      <td>0</td>\n",
       "      <td>0</td>\n",
       "      <td>0</td>\n",
       "      <td>0.0</td>\n",
       "      <td>0</td>\n",
       "    </tr>\n",
       "    <tr>\n",
       "      <th>7</th>\n",
       "      <td>https://www.citilink.ru/product/processor-inte...</td>\n",
       "      <td>4.9</td>\n",
       "      <td>27.0</td>\n",
       "      <td>Процессор Intel Core i3 10100F, LGA 1200, OEM</td>\n",
       "      <td>6 190₽</td>\n",
       "      <td>INTEL</td>\n",
       "      <td>128 ГБ</td>\n",
       "      <td>DDR4</td>\n",
       "      <td>2666 МГц</td>\n",
       "      <td>2.0</td>\n",
       "      <td>41.6 GB/s</td>\n",
       "      <td>0.0</td>\n",
       "      <td>PCI Express 3.0</td>\n",
       "      <td>16.0</td>\n",
       "      <td>1x16, 2x8, 1x8+2x4</td>\n",
       "      <td>0.0</td>\n",
       "      <td>0.029 кг</td>\n",
       "      <td>12 мес.</td>\n",
       "      <td>0</td>\n",
       "      <td>0</td>\n",
       "      <td>0</td>\n",
       "      <td>0</td>\n",
       "      <td>0.0</td>\n",
       "      <td>0</td>\n",
       "    </tr>\n",
       "    <tr>\n",
       "      <th>8</th>\n",
       "      <td>https://www.citilink.ru/product/processor-inte...</td>\n",
       "      <td>5</td>\n",
       "      <td>14.0</td>\n",
       "      <td>Процессор Intel Core i5 12400F, LGA 1700, OEM</td>\n",
       "      <td>16 790</td>\n",
       "      <td>INTEL</td>\n",
       "      <td>128 ГБ</td>\n",
       "      <td>DDR5/ DDR4</td>\n",
       "      <td>DDR5 4800 МГц DDR4 3200 МГц</td>\n",
       "      <td>2.0</td>\n",
       "      <td>76.8 GB/s</td>\n",
       "      <td>0.0</td>\n",
       "      <td>PCI Express 5.0</td>\n",
       "      <td>20.0</td>\n",
       "      <td>1x16+4, 2x8+4</td>\n",
       "      <td>0.0</td>\n",
       "      <td>0.053 кг</td>\n",
       "      <td>12 мес.</td>\n",
       "      <td>0</td>\n",
       "      <td>0</td>\n",
       "      <td>0</td>\n",
       "      <td>0</td>\n",
       "      <td>0.0</td>\n",
       "      <td>0</td>\n",
       "    </tr>\n",
       "    <tr>\n",
       "      <th>9</th>\n",
       "      <td>https://www.citilink.ru/product/processor-inte...</td>\n",
       "      <td>5</td>\n",
       "      <td>18.0</td>\n",
       "      <td>Процессор Intel Core i3 10105F, LGA 1200, OEM</td>\n",
       "      <td>6 790₽</td>\n",
       "      <td>INTEL</td>\n",
       "      <td>128 ГБ</td>\n",
       "      <td>DDR4</td>\n",
       "      <td>2666 МГц</td>\n",
       "      <td>2.0</td>\n",
       "      <td>41.6 GB/s</td>\n",
       "      <td>0.0</td>\n",
       "      <td>PCI Express 3.0</td>\n",
       "      <td>16.0</td>\n",
       "      <td>1x16, 2x8, 1x8+2x4</td>\n",
       "      <td>0.0</td>\n",
       "      <td>0.04 кг</td>\n",
       "      <td>12 мес.</td>\n",
       "      <td>0</td>\n",
       "      <td>0</td>\n",
       "      <td>0</td>\n",
       "      <td>0</td>\n",
       "      <td>0.0</td>\n",
       "      <td>0</td>\n",
       "    </tr>\n",
       "  </tbody>\n",
       "</table>\n",
       "</div>"
      ],
      "text/plain": [
       "                                                link Рейтинг  \\\n",
       "0  https://www.citilink.ru/product/processor-inte...     4.9   \n",
       "1  https://www.citilink.ru/product/processor-amd-...     4.9   \n",
       "2  https://www.citilink.ru/product/processor-inte...     4.9   \n",
       "3  https://www.citilink.ru/product/processor-amd-...     4.8   \n",
       "4  https://www.citilink.ru/product/processor-amd-...       5   \n",
       "5  https://www.citilink.ru/product/processor-inte...       5   \n",
       "6  https://www.citilink.ru/product/processor-inte...       5   \n",
       "7  https://www.citilink.ru/product/processor-inte...     4.9   \n",
       "8  https://www.citilink.ru/product/processor-inte...       5   \n",
       "9  https://www.citilink.ru/product/processor-inte...       5   \n",
       "\n",
       "   Количество отзывов                                           Название  \\\n",
       "0                18.0      Процессор Intel Core i5 12400F, LGA 1700, OEM   \n",
       "1                32.0  Процессор AMD Ryzen 5 3600, SocketAM4, OEM [10...   \n",
       "2                23.0      Процессор Intel Core i3 12100F, LGA 1700, OEM   \n",
       "3                13.0  Процессор AMD Ryzen 5 5600G, SocketAM4, OEM [1...   \n",
       "4                26.0  Процессор AMD Ryzen 5 5600X, SocketAM4, OEM [1...   \n",
       "5                 5.0       Процессор Intel Core i5 12400, LGA 1700, OEM   \n",
       "6                27.0      Процессор Intel Core i5 11400F, LGA 1200, OEM   \n",
       "7                27.0      Процессор Intel Core i3 10100F, LGA 1200, OEM   \n",
       "8                14.0      Процессор Intel Core i5 12400F, LGA 1700, OEM   \n",
       "9                18.0      Процессор Intel Core i3 10105F, LGA 1200, OEM   \n",
       "\n",
       "      Цена  Бренд Максимальный объем памяти  Тип памяти  \\\n",
       "0   16 790  INTEL                    128 ГБ  DDR5/ DDR4   \n",
       "1   8 790₽    AMD                         0        DDR4   \n",
       "2   8 990₽  INTEL                    128 ГБ  DDR5/ DDR4   \n",
       "3  11 990₽    AMD                    128 ГБ        DDR4   \n",
       "4  15 990₽    AMD                    128 ГБ        DDR4   \n",
       "5  16 990₽  INTEL                    128 ГБ  DDR5/ DDR4   \n",
       "6  12 490₽  INTEL                    128 ГБ        DDR4   \n",
       "7   6 190₽  INTEL                    128 ГБ        DDR4   \n",
       "8   16 790  INTEL                    128 ГБ  DDR5/ DDR4   \n",
       "9   6 790₽  INTEL                    128 ГБ        DDR4   \n",
       "\n",
       "       Поддержка частот памяти  Количество каналов памяти  \\\n",
       "0  DDR5 4800 МГц DDR4 3200 МГц                        2.0   \n",
       "1                     3200 МГц                        2.0   \n",
       "2  DDR5 4800 МГц DDR4 3200 МГц                        2.0   \n",
       "3                     3200 МГц                        2.0   \n",
       "4                     3200 МГц                        2.0   \n",
       "5  DDR5 4800 МГц DDR4 3200 МГц                        2.0   \n",
       "6                     3200 МГц                        2.0   \n",
       "7                     2666 МГц                        2.0   \n",
       "8  DDR5 4800 МГц DDR4 3200 МГц                        2.0   \n",
       "9                     2666 МГц                        2.0   \n",
       "\n",
       "  Пропускная способность памяти  Поддержка памяти ECC Версия PCI Express  \\\n",
       "0                     76.8 GB/s                   0.0    PCI Express 5.0   \n",
       "1                             0                   0.0    PCI Express 4.0   \n",
       "2                     76.8 GB/s                   0.0    PCI Express 5.0   \n",
       "3                             0                   0.0    PCI Express 3.0   \n",
       "4                             0                   0.0    PCI Express 4.0   \n",
       "5                     76.8 GB/s                   0.0    PCI Express 5.0   \n",
       "6                       50 GB/s                   0.0    PCI Express 4.0   \n",
       "7                     41.6 GB/s                   0.0    PCI Express 3.0   \n",
       "8                     76.8 GB/s                   0.0    PCI Express 5.0   \n",
       "9                     41.6 GB/s                   0.0    PCI Express 3.0   \n",
       "\n",
       "   Количество каналов PCI Express    Конфигурация PCI Express  \\\n",
       "0                            20.0               1x16+4, 2x8+4   \n",
       "1                            16.0                           0   \n",
       "2                            20.0               1x16+4, 2x8+4   \n",
       "3                            16.0                           0   \n",
       "4                            20.0                           0   \n",
       "5                            20.0               1x16+4, 2x8+4   \n",
       "6                            20.0  1x16+1x4, 2x8+1x4, 1x8+3x4   \n",
       "7                            16.0          1x16, 2x8, 1x8+2x4   \n",
       "8                            20.0               1x16+4, 2x8+4   \n",
       "9                            16.0          1x16, 2x8, 1x8+2x4   \n",
       "\n",
       "   Встроенное графическое ядро Вес упаковки (ед) Гарантия  \\\n",
       "0                          0.0          0.053 кг  12 мес.   \n",
       "1                          0.0           0.08 кг  12 мес.   \n",
       "2                          0.0          0.053 кг  12 мес.   \n",
       "3                          1.0          0.053 кг  12 мес.   \n",
       "4                          0.0          0.102 кг  12 мес.   \n",
       "5                          1.0          0.066 кг  12 мес.   \n",
       "6                          0.0          0.039 кг  12 мес.   \n",
       "7                          0.0          0.029 кг  12 мес.   \n",
       "8                          0.0          0.053 кг  12 мес.   \n",
       "9                          0.0           0.04 кг  12 мес.   \n",
       "\n",
       "  Модель графического ядра Частота графического ядра  \\\n",
       "0                        0                         0   \n",
       "1                        0                         0   \n",
       "2                        0                         0   \n",
       "3               AMD Radeon                  1900 МГц   \n",
       "4                        0                         0   \n",
       "5   Intel UHD Graphics 730  300 МГц и 1450 МГц Turbo   \n",
       "6                        0                         0   \n",
       "7                        0                         0   \n",
       "8                        0                         0   \n",
       "9                        0                         0   \n",
       "\n",
       "  Габариты упаковки (ед) ДхШхВ Максимальный объем видеопамяти  Поддержка WiDi  \\\n",
       "0                            0                              0             0.0   \n",
       "1                            0                              0             0.0   \n",
       "2                            0                              0             0.0   \n",
       "3            0.04x0.03x0.005 м                              0             0.0   \n",
       "4                            0                              0             0.0   \n",
       "5                            0                              0             0.0   \n",
       "6                            0                              0             0.0   \n",
       "7                            0                              0             0.0   \n",
       "8                            0                              0             0.0   \n",
       "9                            0                              0             0.0   \n",
       "\n",
       "  Особенности  \n",
       "0           0  \n",
       "1           0  \n",
       "2           0  \n",
       "3           0  \n",
       "4           0  \n",
       "5           0  \n",
       "6           0  \n",
       "7           0  \n",
       "8           0  \n",
       "9           0  "
      ]
     },
     "execution_count": 2391,
     "metadata": {},
     "output_type": "execute_result"
    }
   ],
   "source": [
    "df1.head(10)"
   ]
  },
  {
   "cell_type": "code",
   "execution_count": 2392,
   "metadata": {},
   "outputs": [
    {
     "data": {
      "text/plain": [
       "link                              100\n",
       "Название                          100\n",
       "Цена                              100\n",
       "Рейтинг                           100\n",
       "Гарантия                           93\n",
       "Бренд                              93\n",
       "Тип памяти                         93\n",
       "Поддержка частот памяти            93\n",
       "Количество каналов памяти          92\n",
       "Версия PCI Express                 91\n",
       "Вес упаковки (ед)                  87\n",
       "Количество каналов PCI Express     79\n",
       "Максимальный объем памяти          72\n",
       "Количество отзывов                 56\n",
       "Пропускная способность памяти      53\n",
       "Встроенное графическое ядро        52\n",
       "Модель графического ядра           52\n",
       "Конфигурация PCI Express           51\n",
       "Частота графического ядра          46\n",
       "Габариты упаковки (ед) ДхШхВ       17\n",
       "Максимальный объем видеопамяти     16\n",
       "Поддержка памяти ECC               15\n",
       "Поддержка WiDi                      2\n",
       "Особенности                         1\n",
       "dtype: int64"
      ]
     },
     "execution_count": 2392,
     "metadata": {},
     "output_type": "execute_result"
    }
   ],
   "source": [
    "df1[df1.ne(0)].count().sort_values(ascending=False)\n"
   ]
  },
  {
   "cell_type": "code",
   "execution_count": 2393,
   "metadata": {},
   "outputs": [
    {
     "data": {
      "text/plain": [
       "0     20.0\n",
       "1     16.0\n",
       "2     20.0\n",
       "3     16.0\n",
       "4     20.0\n",
       "5     20.0\n",
       "6     20.0\n",
       "7     16.0\n",
       "8     20.0\n",
       "9     16.0\n",
       "10    16.0\n",
       "11    16.0\n",
       "12     0.0\n",
       "13    20.0\n",
       "14    16.0\n",
       "15    20.0\n",
       "16    20.0\n",
       "17    20.0\n",
       "18     0.0\n",
       "19    20.0\n",
       "20    20.0\n",
       "21    20.0\n",
       "22    16.0\n",
       "23     0.0\n",
       "24    20.0\n",
       "25    20.0\n",
       "26    16.0\n",
       "27    16.0\n",
       "28    20.0\n",
       "29    20.0\n",
       "30    20.0\n",
       "31    20.0\n",
       "32     0.0\n",
       "33    20.0\n",
       "34    20.0\n",
       "35    16.0\n",
       "36     0.0\n",
       "37    20.0\n",
       "38    16.0\n",
       "39    20.0\n",
       "40    20.0\n",
       "41    24.0\n",
       "42    20.0\n",
       "43     0.0\n",
       "44    24.0\n",
       "45    16.0\n",
       "46    20.0\n",
       "47    20.0\n",
       "48    20.0\n",
       "49    20.0\n",
       "50    16.0\n",
       "51    24.0\n",
       "52     0.0\n",
       "53    20.0\n",
       "54    20.0\n",
       "55    24.0\n",
       "56    20.0\n",
       "57    20.0\n",
       "58    20.0\n",
       "59    20.0\n",
       "60    20.0\n",
       "61    24.0\n",
       "62     0.0\n",
       "63     0.0\n",
       "64    20.0\n",
       "65    24.0\n",
       "66    20.0\n",
       "67    20.0\n",
       "68     0.0\n",
       "69     0.0\n",
       "70    24.0\n",
       "71    20.0\n",
       "72    16.0\n",
       "73     0.0\n",
       "74    16.0\n",
       "75    48.0\n",
       "76    16.0\n",
       "77    16.0\n",
       "78    48.0\n",
       "79    16.0\n",
       "80    16.0\n",
       "81    24.0\n",
       "82     0.0\n",
       "83    48.0\n",
       "84    20.0\n",
       "85     0.0\n",
       "86    16.0\n",
       "87    20.0\n",
       "88     0.0\n",
       "89    16.0\n",
       "90    16.0\n",
       "91    20.0\n",
       "92     0.0\n",
       "93     0.0\n",
       "94     0.0\n",
       "95    20.0\n",
       "96    20.0\n",
       "97     0.0\n",
       "98     0.0\n",
       "99     0.0\n",
       "Name: Количество каналов PCI Express, dtype: float64"
      ]
     },
     "execution_count": 2393,
     "metadata": {},
     "output_type": "execute_result"
    }
   ],
   "source": [
    "df1['Количество каналов PCI Express']"
   ]
  },
  {
   "cell_type": "code",
   "execution_count": 2394,
   "metadata": {},
   "outputs": [
    {
     "data": {
      "text/plain": [
       "0        Rocket Lake\n",
       "1         Comet Lake\n",
       "2         Comet Lake\n",
       "3         Comet Lake\n",
       "4        Rocket Lake\n",
       "5        Rocket Lake\n",
       "6         Alder Lake\n",
       "7      Bristol Ridge\n",
       "8             Kaveri\n",
       "9                  0\n",
       "10                 0\n",
       "11                 0\n",
       "12        Alder Lake\n",
       "13                 0\n",
       "14       Rocket Lake\n",
       "15                 0\n",
       "16                 0\n",
       "17        Alder Lake\n",
       "18        Comet Lake\n",
       "19                 0\n",
       "20                 0\n",
       "21                 0\n",
       "22                 0\n",
       "23                 0\n",
       "24        Comet Lake\n",
       "25                 0\n",
       "26                 0\n",
       "27                 0\n",
       "28        Alder Lake\n",
       "29                 0\n",
       "30                 0\n",
       "31        Alder Lake\n",
       "32        Alder Lake\n",
       "33                 0\n",
       "34        Alder Lake\n",
       "35                 0\n",
       "36        Alder Lake\n",
       "37        Alder Lake\n",
       "38        Alder Lake\n",
       "39                 0\n",
       "40                 0\n",
       "41                 0\n",
       "42                 0\n",
       "43                 0\n",
       "44                 0\n",
       "45       Rocket Lake\n",
       "46                 0\n",
       "47                 0\n",
       "48       Raven Ridge\n",
       "49                 0\n",
       "50           Vermeer\n",
       "51                 0\n",
       "52                 0\n",
       "53                 0\n",
       "54                 0\n",
       "55                 0\n",
       "56                 0\n",
       "57                 0\n",
       "58       Rocket Lake\n",
       "59           Cezanne\n",
       "60                 0\n",
       "61                 0\n",
       "62                 0\n",
       "63       Raptor Lake\n",
       "64       Raptor Lake\n",
       "65       Raptor Lake\n",
       "66       Raptor Lake\n",
       "67       Raptor Lake\n",
       "68                 0\n",
       "69                 0\n",
       "70       Rocket Lake\n",
       "71                 0\n",
       "72            Kabini\n",
       "73            Kaveri\n",
       "74           Vishera\n",
       "75           Vishera\n",
       "76           Skylake\n",
       "77                 0\n",
       "78                 0\n",
       "79                 0\n",
       "80                 0\n",
       "81                 0\n",
       "82                 0\n",
       "83                 0\n",
       "84                 0\n",
       "85                 0\n",
       "86                 0\n",
       "87      Summit Ridge\n",
       "88            Kaveri\n",
       "89                 0\n",
       "90           Skylake\n",
       "91                 0\n",
       "92                 0\n",
       "93                 0\n",
       "94                 0\n",
       "95                 0\n",
       "96                 0\n",
       "97                 0\n",
       "98                 0\n",
       "99                 0\n",
       "100                0\n",
       "101                0\n",
       "102                0\n",
       "103                0\n",
       "104                0\n",
       "105                0\n",
       "106                0\n",
       "107                0\n",
       "108                0\n",
       "109    Bristol Ridge\n",
       "110                0\n",
       "111                0\n",
       "112      Raven Ridge\n",
       "113         Richland\n",
       "114                0\n",
       "115         Godavari\n",
       "116                0\n",
       "117                0\n",
       "118                0\n",
       "119                0\n",
       "120                0\n",
       "121                0\n",
       "122      Coffee Lake\n",
       "123                0\n",
       "124                0\n",
       "125                0\n",
       "126          Skylake\n",
       "127                0\n",
       "128                0\n",
       "129                0\n",
       "130                0\n",
       "131                0\n",
       "132                0\n",
       "133                0\n",
       "134                0\n",
       "135                0\n",
       "136                0\n",
       "137                0\n",
       "138                0\n",
       "139                0\n",
       "140                0\n",
       "141                0\n",
       "142                0\n",
       "143       Comet Lake\n",
       "144       Comet Lake\n",
       "145                0\n",
       "146                0\n",
       "147                0\n",
       "148       Alder Lake\n",
       "149                0\n",
       "150                0\n",
       "151                0\n",
       "152                0\n",
       "153       Alder Lake\n",
       "154      Rocket Lake\n",
       "155                0\n",
       "156                0\n",
       "Name: Ядро, dtype: object"
      ]
     },
     "execution_count": 2394,
     "metadata": {},
     "output_type": "execute_result"
    }
   ],
   "source": [
    "df2['Ядро']"
   ]
  },
  {
   "cell_type": "code",
   "execution_count": 2395,
   "metadata": {},
   "outputs": [
    {
     "data": {
      "text/plain": [
       "{'link',\n",
       " 'Гарантия',\n",
       " 'Количество каналов памяти',\n",
       " 'Количество отзывов',\n",
       " 'Максимальный объем видеопамяти',\n",
       " 'Максимальный объем памяти',\n",
       " 'Название',\n",
       " 'Поддержка памяти ECC',\n",
       " 'Рейтинг',\n",
       " 'Цена',\n",
       " 'Частота графического ядра'}"
      ]
     },
     "execution_count": 2395,
     "metadata": {},
     "output_type": "execute_result"
    }
   ],
   "source": [
    "set(columns1) & set(columns2)"
   ]
  },
  {
   "cell_type": "code",
   "execution_count": 2396,
   "metadata": {},
   "outputs": [
    {
     "data": {
      "text/plain": [
       "{'link',\n",
       " 'Бренд',\n",
       " 'Версия PCI Express',\n",
       " 'Вес упаковки (ед)',\n",
       " 'Встроенное графическое ядро',\n",
       " 'Габариты упаковки (ед) ДхШхВ',\n",
       " 'Гарантия',\n",
       " 'Количество каналов PCI Express',\n",
       " 'Количество каналов памяти',\n",
       " 'Количество отзывов',\n",
       " 'Конфигурация PCI Express',\n",
       " 'Максимальный объем видеопамяти',\n",
       " 'Максимальный объем памяти',\n",
       " 'Модель графического ядра',\n",
       " 'Название',\n",
       " 'Особенности',\n",
       " 'Поддержка WiDi',\n",
       " 'Поддержка памяти ECC',\n",
       " 'Поддержка частот памяти',\n",
       " 'Пропускная способность памяти',\n",
       " 'Рейтинг',\n",
       " 'Тип памяти',\n",
       " 'Цена',\n",
       " 'Частота графического ядра'}"
      ]
     },
     "execution_count": 2396,
     "metadata": {},
     "output_type": "execute_result"
    }
   ],
   "source": [
    "set(columns1)"
   ]
  },
  {
   "cell_type": "code",
   "execution_count": 2397,
   "metadata": {},
   "outputs": [
    {
     "data": {
      "text/plain": [
       "{'Unnamed: 41',\n",
       " 'link',\n",
       " 'Вес',\n",
       " 'Высота',\n",
       " 'Гарантия',\n",
       " 'Глубина',\n",
       " 'Графическое ядро',\n",
       " 'Дополнительная информация',\n",
       " 'Интегрированное графическое ядро',\n",
       " 'Количество каналов памяти',\n",
       " 'Количество отзывов',\n",
       " 'Количество потоков',\n",
       " 'Количество ядер',\n",
       " 'Коэффициент умножения',\n",
       " 'Кулер',\n",
       " 'Максимальная пропускная способность памяти',\n",
       " 'Максимальная рабочая температура',\n",
       " 'Максимальная тактовая частота',\n",
       " 'Максимальная частота графического ядра',\n",
       " 'Максимальное напряжение питания',\n",
       " 'Максимальный объем видеопамяти',\n",
       " 'Максимальный объем памяти',\n",
       " 'Минимальное напряжение питания',\n",
       " 'Название',\n",
       " 'Объем кэша L1',\n",
       " 'Объем кэша L2',\n",
       " 'Объем кэша L3',\n",
       " 'Поддерживаемые инструкции',\n",
       " 'Поддерживаемые стандарты памяти',\n",
       " 'Поддержка памяти ECC',\n",
       " 'Разблокированный множитель',\n",
       " 'Рейтинг',\n",
       " 'Семейство',\n",
       " 'Сокет',\n",
       " 'Страна',\n",
       " 'Тактовая частота',\n",
       " 'Тепловыделение',\n",
       " 'Технологии',\n",
       " 'Техпроцесс',\n",
       " 'Тип поддерживаемой памяти',\n",
       " 'Тип поставки',\n",
       " 'Цена',\n",
       " 'Частота графического ядра',\n",
       " 'Ширина',\n",
       " 'Ядро'}"
      ]
     },
     "execution_count": 2397,
     "metadata": {},
     "output_type": "execute_result"
    }
   ],
   "source": [
    "set(df2.columns)"
   ]
  },
  {
   "cell_type": "code",
   "execution_count": 2398,
   "metadata": {},
   "outputs": [],
   "source": [
    "name_old = 'Максимальная пропускная способность памяти'\n",
    "name_new = 'Пропускная способность памяти'\n",
    "df2.rename(columns={name_old: name_new}, inplace=True)"
   ]
  },
  {
   "cell_type": "code",
   "execution_count": 2399,
   "metadata": {},
   "outputs": [],
   "source": [
    "name_old = 'Поддержка частот памяти'\n",
    "name_new = 'Тактовая частота '\n",
    "df1.rename(columns={name_old: name_new}, inplace=True)"
   ]
  },
  {
   "cell_type": "code",
   "execution_count": 2400,
   "metadata": {},
   "outputs": [],
   "source": [
    "name_old = 'Интегрированное графическое ядро'\n",
    "name_new = 'Встроенное графическое ядро'\n",
    "df2.rename(columns={name_old: name_new}, inplace=True)"
   ]
  },
  {
   "cell_type": "code",
   "execution_count": 2401,
   "metadata": {},
   "outputs": [],
   "source": [
    "\n",
    "\n",
    "name_old = 'Количество ядер процессора'\n",
    "name_new = 'Количество ядер'\n",
    "df1.rename(columns={name_old: name_new}, inplace=True)"
   ]
  },
  {
   "cell_type": "code",
   "execution_count": 2402,
   "metadata": {},
   "outputs": [],
   "source": [
    "\n",
    "name_old = 'Модель процессора'\n",
    "name_new = 'Процессор'\n",
    "df2.rename(columns={name_old: name_new}, inplace=True)"
   ]
  },
  {
   "cell_type": "code",
   "execution_count": 2403,
   "metadata": {},
   "outputs": [],
   "source": [
    " \n",
    "name_old = 'Объем накопителя'\n",
    "name_new = 'Объем SSD'\n",
    "df2.rename(columns={name_old: name_new}, inplace=True)"
   ]
  },
  {
   "cell_type": "code",
   "execution_count": 2404,
   "metadata": {},
   "outputs": [],
   "source": [
    "\n",
    "name_old = 'Модель видеокарты'\n",
    "name_new = 'Графика'\n",
    "df2.rename(columns={name_old: name_new}, inplace=True)"
   ]
  },
  {
   "cell_type": "code",
   "execution_count": 2405,
   "metadata": {},
   "outputs": [],
   "source": [
    "\n",
    "name_old = 'Количество потоков'\n",
    "name_new = 'Максимальное число потоков'\n",
    "df2.rename(columns={name_old: name_new}, inplace=True)"
   ]
  },
  {
   "cell_type": "code",
   "execution_count": 2406,
   "metadata": {},
   "outputs": [],
   "source": [
    "name_old = 'Мощность блока питания'\n",
    "name_new = 'Блок питания'\n",
    "df2.rename(columns={name_old: name_new}, inplace=True)"
   ]
  },
  {
   "cell_type": "code",
   "execution_count": 2407,
   "metadata": {},
   "outputs": [],
   "source": [
    "\n",
    "name_old = 'Количество слотов'\n",
    "name_new = 'Количество слотов оперативной'\n",
    "df2.rename(columns={name_old: name_new}, inplace=True)"
   ]
  },
  {
   "cell_type": "code",
   "execution_count": 2408,
   "metadata": {},
   "outputs": [],
   "source": [
    "\n",
    "name_old = 'Картридер'\n",
    "name_new = 'Кард-ридер'\n",
    "df2.rename(columns={name_old: name_new}, inplace=True)"
   ]
  },
  {
   "cell_type": "code",
   "execution_count": 2409,
   "metadata": {},
   "outputs": [],
   "source": [
    "name_old = 'Web-камера'\n",
    "name_new = 'Веб-камера'\n",
    "df2.rename(columns={name_old: name_new}, inplace=True)"
   ]
  },
  {
   "cell_type": "code",
   "execution_count": 2410,
   "metadata": {},
   "outputs": [],
   "source": [
    "name_old = 'USB 2.0 (Type-C)'\n",
    "name_new = 'Порты USB 2.1 (Type-C)'\n",
    "df2.rename(columns={name_old: name_new}, inplace=True)"
   ]
  },
  {
   "cell_type": "code",
   "execution_count": 2411,
   "metadata": {},
   "outputs": [],
   "source": [
    "name_old = 'Оперативная память'\n",
    "name_new = 'Объем оперативной памяти'\n",
    "df1.rename(columns={name_old: name_new}, inplace=True)"
   ]
  },
  {
   "cell_type": "code",
   "execution_count": 2412,
   "metadata": {},
   "outputs": [],
   "source": [
    "name_old = 'USB 3.0 (Type-C)'\n",
    "name_new = 'Порты USB 3.0 (Type-C)'\n",
    "df2.rename(columns={name_old: name_new}, inplace=True)"
   ]
  },
  {
   "cell_type": "code",
   "execution_count": 2413,
   "metadata": {},
   "outputs": [],
   "source": [
    "name_old = 'USB 3.1 (Type-C)'\n",
    "name_new = 'Порты USB 3.1 (Type-C)'\n",
    "df2.rename(columns={name_old: name_new}, inplace=True)"
   ]
  },
  {
   "cell_type": "code",
   "execution_count": 2414,
   "metadata": {},
   "outputs": [],
   "source": [
    "name_old = 'USB 3.2 (Type-C)'\n",
    "name_new = 'Порты USB 3.2 (Type-C)'\n",
    "df2.rename(columns={name_old: name_new}, inplace=True)"
   ]
  },
  {
   "cell_type": "code",
   "execution_count": 2415,
   "metadata": {},
   "outputs": [],
   "source": [
    "\n",
    "name_old = 'Мощность блока питания'\n",
    "name_new = 'Выходная мощность адаптера питания'\n",
    "df2.rename(columns={name_old: name_new}, inplace=True)"
   ]
  },
  {
   "cell_type": "code",
   "execution_count": 2416,
   "metadata": {},
   "outputs": [],
   "source": [
    "\n",
    "\n",
    "name_old = 'Диагональ экрана в'\n",
    "name_new = 'Диагональ экрана'\n",
    "df1.rename(columns={name_old: name_new}, inplace=True)"
   ]
  },
  {
   "cell_type": "code",
   "execution_count": 2417,
   "metadata": {},
   "outputs": [],
   "source": [
    "\n",
    "name_old = 'Технология динамического экрана'\n",
    "name_new = 'Динамический экран'\n",
    "df2.rename(columns={name_old: name_new}, inplace=True)"
   ]
  },
  {
   "cell_type": "code",
   "execution_count": 2418,
   "metadata": {},
   "outputs": [],
   "source": [
    "\n",
    "name_old = 'Игровой ноутбук'\n",
    "name_new = 'Для геймеров'\n",
    "df2.rename(columns={name_old: name_new}, inplace=True)"
   ]
  },
  {
   "cell_type": "code",
   "execution_count": 2419,
   "metadata": {},
   "outputs": [],
   "source": [
    "df1 = df1.fillna(0)\n",
    "df2 = df2.fillna(0)"
   ]
  },
  {
   "cell_type": "code",
   "execution_count": 2420,
   "metadata": {},
   "outputs": [
    {
     "name": "stdout",
     "output_type": "stream",
     "text": [
      "<class 'pandas.core.frame.DataFrame'>\n",
      "RangeIndex: 100 entries, 0 to 99\n",
      "Data columns (total 13 columns):\n",
      " #   Column                          Non-Null Count  Dtype  \n",
      "---  ------                          --------------  -----  \n",
      " 0   Количество отзывов              100 non-null    float64\n",
      " 1   Встроенное графическое ядро     100 non-null    float64\n",
      " 2   Гарантия                        100 non-null    object \n",
      " 3   Рейтинг                         100 non-null    object \n",
      " 4   link                            100 non-null    object \n",
      " 5   Поддержка памяти ECC            100 non-null    float64\n",
      " 6   Частота графического ядра       100 non-null    object \n",
      " 7   Пропускная способность памяти   100 non-null    object \n",
      " 8   Количество каналов памяти       100 non-null    float64\n",
      " 9   Название                        100 non-null    object \n",
      " 10  Максимальный объем памяти       100 non-null    object \n",
      " 11  Максимальный объем видеопамяти  100 non-null    object \n",
      " 12  Цена                            100 non-null    object \n",
      "dtypes: float64(4), object(9)\n",
      "memory usage: 10.3+ KB\n"
     ]
    },
    {
     "name": "stderr",
     "output_type": "stream",
     "text": [
      "C:\\Users\\ilya\\AppData\\Local\\Temp\\ipykernel_18048\\3155891446.py:3: FutureWarning: Passing a set as an indexer is deprecated and will raise in a future version. Use a list instead.\n",
      "  df_full = df1.loc[:, column]\n"
     ]
    }
   ],
   "source": [
    "column = set(df1.columns) & set(df2.columns)\n",
    "\n",
    "df_full = df1.loc[:, column]\n",
    "\n",
    "df_full.info()"
   ]
  },
  {
   "cell_type": "code",
   "execution_count": 2421,
   "metadata": {},
   "outputs": [],
   "source": [
    "column = 'Цена'"
   ]
  },
  {
   "cell_type": "code",
   "execution_count": 2422,
   "metadata": {},
   "outputs": [],
   "source": [
    "def func(s):\n",
    "    try:\n",
    "        if \"Нет в наличии\" in s:\n",
    "            return 0.0\n",
    "        elif \"₽\" in s:\n",
    "            return float(s.replace(\"₽\", \"\").replace(\" \", \"\").replace(\",\", \".\"))\n",
    "        elif \"р.\" in s:\n",
    "            return int(s.replace(\"р.\", \"\").replace(\" \", \"\"))\n",
    "        else:\n",
    "            return int(s.replace(\" \", \"\"))\n",
    " \n",
    "    except Exception:\n",
    "        pass\n",
    "\n",
    "\n",
    "\n",
    "df1[column] = df1[column].apply(func)\n",
    "df2[column] = df2[column].apply(func)"
   ]
  },
  {
   "cell_type": "code",
   "execution_count": 2423,
   "metadata": {},
   "outputs": [
    {
     "name": "stdout",
     "output_type": "stream",
     "text": [
      "[16790.  8790.  8990. 11990. 15990. 16990. 12490.  6190.  6790. 10990.\n",
      "  9990. 10390.  7190. 15590. 23990. 24490. 17390. 30490. 26290. 43990.\n",
      " 11590. 27890. 32590. 19990.  4190. 42990. 32990. 31990. 10290.  9290.\n",
      " 22990. 22790. 34690. 61890. 62990. 18790. 41790. 13790. 20990. 20490.\n",
      "  7090. 17890. 56990. 19490. 21990. 10490. 40990.  5190. 38990.  9490.\n",
      " 10190. 33990.  8190.  8390.  1890. 70390. 56690. 41990. 17790. 58990.\n",
      " 29990. 79790. 27290.  2090.   990. 23090. 46190.]\n",
      "[ 19499  10399  11499   5699  32999  25999  34999  14999  18499  29499\n",
      "  22299  21999  18899  23499  29999  18790  19999  26999  24499   6299\n",
      "  10799  19199  14899  12599  23999  18290  31790  32590  26990  34190\n",
      "  34990  38890  49990  56890  15690  12190  18890  17190  17590  37490\n",
      "  14190  10890  18590  13290  21590  35190  24790  11890  59190  15590\n",
      "  24190  13390  38290  55690  43890  53590  51290  79590  81690  10790\n",
      "   9440  24990   9799   2690   3099   2999   5990   4590   4690   5599\n",
      "   7199  18699  13990  10199  29290   8290  17299   7590   7790   9690\n",
      "  12499  11190  19490  15499   6790   7390   8590   5490   4990   2590\n",
      "   6190   6690   6290   5690   6990   3399   3490  11399   2090   8790\n",
      "  27790  21390  20190  12390  29190   5790  21990 119990  85990  52990\n",
      "  47390  29390  28990  17990  15990  12990   3990   9190   6899   8499\n",
      "   5899  14699  25499   6399  15299  14799  10999  17699  28999  27999]\n"
     ]
    }
   ],
   "source": [
    "print(df1[column][df1[column] != 0 ].unique())\n",
    "print(df2[column][df2[column] != 0 ].unique())"
   ]
  },
  {
   "cell_type": "code",
   "execution_count": 2424,
   "metadata": {},
   "outputs": [],
   "source": [
    "column = 'Рейтинг'"
   ]
  },
  {
   "cell_type": "code",
   "execution_count": 2425,
   "metadata": {},
   "outputs": [],
   "source": [
    "def func(s):\n",
    "    try:\n",
    "        if s == 0:\n",
    "            return 0.0\n",
    "        \n",
    "        if \"Код товара\" in s:\n",
    "            return 0.0\n",
    "        elif \"Обзор\" in s:\n",
    "            return float(s.split(\" Обзор\")[0])\n",
    "        else:\n",
    "            return float(s)\n",
    "\n",
    "    except Exception:\n",
    "        pass\n",
    "\n",
    "\n",
    "\n",
    "df1[column] = df1[column].apply(func)"
   ]
  },
  {
   "cell_type": "code",
   "execution_count": 2426,
   "metadata": {},
   "outputs": [],
   "source": [
    "df2['Рейтинг'] = pd.DataFrame({'Рейтинг': np.random.normal(loc=4, scale=1, size=100)}).round(1)\n",
    "df1['Рейтинг'] = pd.DataFrame({'Рейтинг': np.random.normal(loc=4, scale=1, size=100)}).round(1)\n",
    "\n",
    "\n",
    "df1['Рейтинг'] = df1['Рейтинг'].clip(2, 5)\n",
    "\n",
    "df2['Рейтинг'] = df2['Рейтинг'].clip(2, 5)"
   ]
  },
  {
   "cell_type": "code",
   "execution_count": 2427,
   "metadata": {},
   "outputs": [
    {
     "name": "stdout",
     "output_type": "stream",
     "text": [
      "[4.8 4.4 2.2 4.6 4.2 3.2 4.1 3.1 5.  2.7 4.5 4.9 3.3 3.8 4.3 2.9 2.3 3.6\n",
      " 2.8 2.  3.5 2.4 3.4 3.7 4.  4.7 3.9 nan]\n",
      "[2.8 4.  4.8 3.6 5.  3.7 3.4 2.  3.  4.6 4.7 4.4 4.2 2.4 3.9 4.3 2.9 3.5\n",
      " 3.3 2.2 4.1 3.1 3.2 2.6 4.5 4.9 2.3 2.1 3.8 2.7]\n"
     ]
    }
   ],
   "source": [
    "print(df2[column][df2[column] != 0 ].unique())\n",
    "print(df1[column][df1[column] != 0 ].unique())"
   ]
  },
  {
   "cell_type": "code",
   "execution_count": 2428,
   "metadata": {},
   "outputs": [],
   "source": [
    "column = 'Гарантия'"
   ]
  },
  {
   "cell_type": "code",
   "execution_count": 2429,
   "metadata": {},
   "outputs": [],
   "source": [
    "def func(s):\n",
    "    try :\n",
    "        if s == 0:\n",
    "            return 0.0\n",
    "        elif \"год\" in s:\n",
    "            return int(s.split(\" \")[0])* 12\n",
    "        elif \"мес.\" in s:\n",
    "            return int(s.split(\" \")[0])\n",
    "\n",
    "\n",
    "    except Exception:\n",
    "        pass\n",
    "\n",
    "df1[column] = df1[column].apply(func)\n",
    "df2[column] = df2[column].apply(func)"
   ]
  },
  {
   "cell_type": "code",
   "execution_count": 2430,
   "metadata": {},
   "outputs": [
    {
     "name": "stdout",
     "output_type": "stream",
     "text": [
      "[12. 36.]\n",
      "[12.]\n"
     ]
    }
   ],
   "source": [
    "print(df2[column][df2[column] != 0 ].unique())\n",
    "print(df1[column][df1[column] != 0 ].unique())"
   ]
  },
  {
   "cell_type": "code",
   "execution_count": 2431,
   "metadata": {},
   "outputs": [],
   "source": [
    "column = 'Название'\n",
    "\n",
    "df1[column] = df1[column].str.lower()\n",
    "df2[column] = df2[column].str.lower()"
   ]
  },
  {
   "cell_type": "code",
   "execution_count": 2432,
   "metadata": {},
   "outputs": [],
   "source": [
    "def func(s):\n",
    "    try:\n",
    "        if \"процессор intel\" in s:\n",
    "            if '-' in s:\n",
    "                return re.search(r'i\\d-\\d+', s).group().replace('-',' ')\n",
    "\n",
    "            else:\n",
    "                if 'core' not in s:\n",
    "                    return s\n",
    "                else:\n",
    "                    return re.search(r'i\\d \\d\\d\\d\\d\\d', s).group()\n",
    "        else:\n",
    "            return s\n",
    "    except Exception:\n",
    "        pass\n",
    "\n",
    "\n",
    "\n",
    "df1[column] = df1[column].apply(func)\n",
    "df2[column] = df2[column].apply(func)"
   ]
  },
  {
   "cell_type": "code",
   "execution_count": 2433,
   "metadata": {},
   "outputs": [
    {
     "data": {
      "text/plain": [
       "0                                             i5 12400\n",
       "1    процессор amd ryzen 5 3600, socketam4, oem [10...\n",
       "2                                             i3 12100\n",
       "3    процессор amd ryzen 5 5600g, socketam4, oem [1...\n",
       "4    процессор amd ryzen 5 5600x, socketam4, oem [1...\n",
       "5                                             i5 12400\n",
       "6                                             i5 11400\n",
       "7                                             i3 10100\n",
       "8                                             i5 12400\n",
       "9                                             i3 10105\n",
       "Name: Название, dtype: object"
      ]
     },
     "execution_count": 2433,
     "metadata": {},
     "output_type": "execute_result"
    }
   ],
   "source": [
    "df1[column][df1[column] != 0 ].head(10)"
   ]
  },
  {
   "cell_type": "code",
   "execution_count": 2434,
   "metadata": {},
   "outputs": [
    {
     "data": {
      "text/plain": [
       "0                                             i5 11600\n",
       "1                                             i3 10100\n",
       "2                                             i3 10100\n",
       "3    процессор intel celeron g5925 s1200 3.6g (bx80...\n",
       "4                     процессор intel i7 11700 2.5 ghz\n",
       "5                                             i7 11700\n",
       "6                    процессор intel i7 12700kf 4.9ghz\n",
       "7       процессор amd a6 9500e am4 oem (ad9500ahm23ab)\n",
       "8    процессор amd athlon x2 450 fm2+ oem (ad450xyb...\n",
       "9                                             i5 12400\n",
       "Name: Название, dtype: object"
      ]
     },
     "execution_count": 2434,
     "metadata": {},
     "output_type": "execute_result"
    }
   ],
   "source": [
    "df2[column][df2[column] != 0 ].head(10)"
   ]
  },
  {
   "cell_type": "code",
   "execution_count": 2435,
   "metadata": {},
   "outputs": [],
   "source": [
    "column = 'Максимальный объем памяти'"
   ]
  },
  {
   "cell_type": "code",
   "execution_count": 2436,
   "metadata": {},
   "outputs": [],
   "source": [
    "def func(s):\n",
    "    try:\n",
    "        if \" ГБ\" in s:\n",
    "            return float(s.split(' ГБ')[0])\n",
    "\n",
    "        else:\n",
    "            return s\n",
    "    except Exception:\n",
    "        pass\n",
    "\n",
    "\n",
    "\n",
    "df1[column] = df1[column].apply(func)\n",
    "df2[column] = df2[column].apply(func)"
   ]
  },
  {
   "cell_type": "code",
   "execution_count": 2437,
   "metadata": {},
   "outputs": [
    {
     "name": "stdout",
     "output_type": "stream",
     "text": [
      "[128.  nan  64.]\n",
      "[128.  nan  64. 256.]\n"
     ]
    }
   ],
   "source": [
    "print(df2[column][df2[column] != 0 ].unique())\n",
    "print(df1[column][df1[column] != 0 ].unique())"
   ]
  },
  {
   "cell_type": "code",
   "execution_count": 2438,
   "metadata": {},
   "outputs": [],
   "source": [
    "column = 'Пропускная способность памяти'"
   ]
  },
  {
   "cell_type": "code",
   "execution_count": 2439,
   "metadata": {},
   "outputs": [],
   "source": [
    "def func(s):\n",
    "    try:\n",
    "        if \" Гбит/с\" in s:\n",
    "            return float(s.split(' Гбит/с')[0])\n",
    "        elif \" GB/s\" in s:\n",
    "            return float(s.split(' GB/s')[0])\n",
    "        \n",
    "        else:\n",
    "            return s\n",
    "    except Exception:\n",
    "        pass\n",
    "\n",
    "df1[column] = df1[column].apply(func)\n",
    "df2[column] = df2[column].apply(func)"
   ]
  },
  {
   "cell_type": "code",
   "execution_count": 2440,
   "metadata": {},
   "outputs": [
    {
     "name": "stdout",
     "output_type": "stream",
     "text": [
      "[50.  41.6  nan 76.8 45.8 89.6 34.1 37.5]\n",
      "[76.8  nan 50.  41.6 89.6 45.8 38.4 34.1]\n"
     ]
    }
   ],
   "source": [
    "print(df2[column][df2[column] != 0 ].unique())\n",
    "print(df1[column][df1[column] != 0 ].unique())"
   ]
  },
  {
   "cell_type": "code",
   "execution_count": 2441,
   "metadata": {},
   "outputs": [],
   "source": [
    "column = 'Максимальный объем видеопамяти'"
   ]
  },
  {
   "cell_type": "code",
   "execution_count": 2442,
   "metadata": {},
   "outputs": [],
   "source": [
    "def func(s):\n",
    "    try:\n",
    "        if \" ГБ\" in s:\n",
    "            return float(s.split(' ГБ')[0])\n",
    "\n",
    "        else:\n",
    "            return s\n",
    "    except Exception:\n",
    "        pass\n",
    "\n",
    "df1[column] = df1[column].apply(func)\n",
    "df2[column] = df2[column].apply(func)"
   ]
  },
  {
   "cell_type": "code",
   "execution_count": 2443,
   "metadata": {},
   "outputs": [
    {
     "name": "stdout",
     "output_type": "stream",
     "text": [
      "[ nan  64. 128.]\n",
      "[nan 64. 32.]\n"
     ]
    }
   ],
   "source": [
    "print(df2[column][df2[column] != 0 ].unique())\n",
    "print(df1[column][df1[column] != 0 ].unique())"
   ]
  },
  {
   "cell_type": "code",
   "execution_count": 2444,
   "metadata": {},
   "outputs": [],
   "source": [
    "column = 'Частота графического ядра'"
   ]
  },
  {
   "cell_type": "code",
   "execution_count": 2445,
   "metadata": {},
   "outputs": [],
   "source": [
    "def func(s):\n",
    "    try:\n",
    "        if \"МГц и\" in s:\n",
    "            return float(s.split(' МГц и')[0])\n",
    "        elif \"МГц\" in s:\n",
    "            return float(s.split(' МГц')[0])\n",
    "        else:\n",
    "            return s\n",
    "    except Exception:\n",
    "        pass\n",
    "\n",
    "\n",
    "\n",
    "df1[column] = df1[column].apply(func)\n",
    "df2[column] = df2[column].apply(func)"
   ]
  },
  {
   "cell_type": "code",
   "execution_count": 2446,
   "metadata": {},
   "outputs": [
    {
     "name": "stdout",
     "output_type": "stream",
     "text": [
      "[ 350.   nan  800.  300. 1900. 1250.  450.  756.  950.  724.]\n",
      "[  nan 1900.  300.  350. 2000. 1700.  400. 1300. 1029.  800. 1100.]\n"
     ]
    }
   ],
   "source": [
    "print(df2[column][df2[column] != 0 ].unique())\n",
    "print(df1[column][df1[column] != 0 ].unique())"
   ]
  },
  {
   "cell_type": "code",
   "execution_count": 2447,
   "metadata": {},
   "outputs": [
    {
     "name": "stdout",
     "output_type": "stream",
     "text": [
      "<class 'pandas.core.frame.DataFrame'>\n",
      "RangeIndex: 100 entries, 0 to 99\n",
      "Data columns (total 13 columns):\n",
      " #   Column                          Non-Null Count  Dtype  \n",
      "---  ------                          --------------  -----  \n",
      " 0   Количество отзывов              100 non-null    float64\n",
      " 1   Встроенное графическое ядро     100 non-null    float64\n",
      " 2   Гарантия                        100 non-null    float64\n",
      " 3   Рейтинг                         100 non-null    float64\n",
      " 4   link                            100 non-null    object \n",
      " 5   Поддержка памяти ECC            100 non-null    float64\n",
      " 6   Частота графического ядра       46 non-null     float64\n",
      " 7   Пропускная способность памяти   53 non-null     float64\n",
      " 8   Количество каналов памяти       100 non-null    float64\n",
      " 9   Название                        98 non-null     object \n",
      " 10  Максимальный объем памяти       72 non-null     float64\n",
      " 11  Максимальный объем видеопамяти  16 non-null     float64\n",
      " 12  Цена                            100 non-null    float64\n",
      "dtypes: float64(11), object(2)\n",
      "memory usage: 10.3+ KB\n"
     ]
    },
    {
     "name": "stderr",
     "output_type": "stream",
     "text": [
      "C:\\Users\\ilya\\AppData\\Local\\Temp\\ipykernel_18048\\3155891446.py:3: FutureWarning: Passing a set as an indexer is deprecated and will raise in a future version. Use a list instead.\n",
      "  df_full = df1.loc[:, column]\n"
     ]
    }
   ],
   "source": [
    "column = set(df1.columns) & set(df2.columns)\n",
    "\n",
    "df_full = df1.loc[:, column]\n",
    "\n",
    "df_full.info()"
   ]
  },
  {
   "cell_type": "code",
   "execution_count": 2448,
   "metadata": {},
   "outputs": [],
   "source": [
    "df1['Количество отзывов'] = pd.DataFrame({'Количество отзывов': np.random.normal(loc=10, scale=5, size=100)}).round(0)\n",
    "df2['Количество отзывов'] = pd.DataFrame({'Количество отзывов': np.random.normal(loc=10, scale=5, size=100)}).round(0)\n",
    "\n",
    "df1['Количество отзывов'] = df1['Количество отзывов'].clip(1, 30)\n",
    "df1['Количество отзывов'] = df1['Количество отзывов'].clip(1, 30)"
   ]
  },
  {
   "cell_type": "code",
   "execution_count": 2449,
   "metadata": {},
   "outputs": [
    {
     "name": "stdout",
     "output_type": "stream",
     "text": [
      "<class 'pandas.core.frame.DataFrame'>\n",
      "RangeIndex: 100 entries, 0 to 99\n",
      "Data columns (total 12 columns):\n",
      " #   Column                          Non-Null Count  Dtype  \n",
      "---  ------                          --------------  -----  \n",
      " 0   Количество отзывов              100 non-null    float64\n",
      " 1   Встроенное графическое ядро     100 non-null    float64\n",
      " 2   Гарантия                        100 non-null    float64\n",
      " 3   Рейтинг                         100 non-null    float64\n",
      " 4   Поддержка памяти ECC            100 non-null    float64\n",
      " 5   Частота графического ядра       46 non-null     float64\n",
      " 6   Пропускная способность памяти   53 non-null     float64\n",
      " 7   Количество каналов памяти       100 non-null    float64\n",
      " 8   Название                        98 non-null     object \n",
      " 9   Максимальный объем памяти       72 non-null     float64\n",
      " 10  Максимальный объем видеопамяти  16 non-null     float64\n",
      " 11  Цена                            100 non-null    float64\n",
      "dtypes: float64(11), object(1)\n",
      "memory usage: 9.5+ KB\n"
     ]
    },
    {
     "name": "stderr",
     "output_type": "stream",
     "text": [
      "C:\\Users\\ilya\\AppData\\Local\\Temp\\ipykernel_18048\\3383453024.py:3: FutureWarning: Passing a set as an indexer is deprecated and will raise in a future version. Use a list instead.\n",
      "  df_full = df1.loc[:, column]\n"
     ]
    }
   ],
   "source": [
    "column = set(df1.columns) & set(df2.columns)\n",
    "\n",
    "df_full = df1.loc[:, column]\n",
    "\n",
    "df_full.drop(columns = ['link'], inplace = True)\n",
    "\n",
    "df_full.info()"
   ]
  },
  {
   "cell_type": "code",
   "execution_count": 2450,
   "metadata": {},
   "outputs": [],
   "source": [
    "df1 = df1.fillna(0)\n",
    "df2 = df2.fillna(0)"
   ]
  },
  {
   "cell_type": "code",
   "execution_count": 2451,
   "metadata": {},
   "outputs": [],
   "source": [
    "column = df_full.columns\n",
    "\n",
    "df1 = df1.loc[:, column]\n",
    "df2 = df2.loc[:, column]\n",
    "\n",
    "df1.to_csv(f'data_citilink.csv', index=False)\n",
    "df2.to_csv(f'data_eldorado.csv', index=False)"
   ]
  },
  {
   "cell_type": "code",
   "execution_count": null,
   "metadata": {},
   "outputs": [],
   "source": []
  }
 ],
 "metadata": {
  "kernelspec": {
   "display_name": "Python 3",
   "language": "python",
   "name": "python3"
  },
  "language_info": {
   "codemirror_mode": {
    "name": "ipython",
    "version": 3
   },
   "file_extension": ".py",
   "mimetype": "text/x-python",
   "name": "python",
   "nbconvert_exporter": "python",
   "pygments_lexer": "ipython3",
   "version": "3.10.5"
  },
  "orig_nbformat": 4
 },
 "nbformat": 4,
 "nbformat_minor": 2
}
