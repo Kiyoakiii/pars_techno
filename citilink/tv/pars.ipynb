{
 "cells": [
  {
   "cell_type": "code",
   "execution_count": 4,
   "metadata": {},
   "outputs": [],
   "source": [
    "from selenium import webdriver\n",
    "import numpy as np\n",
    "\n",
    "import time\n",
    "from selenium import webdriver\n",
    "\n",
    "from selenium.webdriver.common.by import By\n",
    "#from selenium.webdriver.common.keys import Keys\n",
    "from selenium.webdriver.support.ui import WebDriverWait\n",
    "from selenium.webdriver.support.expected_conditions import presence_of_element_located\n",
    "\n",
    "from selenium.webdriver.support import expected_conditions\n",
    "from selenium.webdriver.common.by import By\n",
    "from selenium.webdriver.support.ui import WebDriverWait\n",
    "import time\n",
    "from selenium import webdriver\n",
    "from selenium.webdriver.chrome.service import Service\n",
    "import pandas as pd"
   ]
  },
  {
   "cell_type": "code",
   "execution_count": 5,
   "metadata": {},
   "outputs": [],
   "source": [
    "from selenium import webdriver\n",
    "\n",
    "\n"
   ]
  },
  {
   "cell_type": "code",
   "execution_count": 10,
   "metadata": {},
   "outputs": [
    {
     "name": "stdout",
     "output_type": "stream",
     "text": [
      "num =  1\n"
     ]
    },
    {
     "ename": "NoSuchWindowException",
     "evalue": "Message: no such window: target window already closed\nfrom unknown error: web view not found\n  (Session info: chrome=114.0.5735.199)\nStacktrace:\nBacktrace:\n\tGetHandleVerifier [0x008DA813+48355]\n\t(No symbol) [0x0086C4B1]\n\t(No symbol) [0x00775358]\n\t(No symbol) [0x0075D293]\n\t(No symbol) [0x007BE37B]\n\t(No symbol) [0x007CC473]\n\t(No symbol) [0x007BA536]\n\t(No symbol) [0x007982DC]\n\t(No symbol) [0x007993DD]\n\tGetHandleVerifier [0x00B3AABD+2539405]\n\tGetHandleVerifier [0x00B7A78F+2800735]\n\tGetHandleVerifier [0x00B7456C+2775612]\n\tGetHandleVerifier [0x009651E0+616112]\n\t(No symbol) [0x00875F8C]\n\t(No symbol) [0x00872328]\n\t(No symbol) [0x0087240B]\n\t(No symbol) [0x00864FF7]\n\tBaseThreadInitThunk [0x76897D69+25]\n\tRtlInitializeExceptionChain [0x7757BB9B+107]\n\tRtlClearBits [0x7757BB1F+191]\n",
     "output_type": "error",
     "traceback": [
      "\u001b[1;31m---------------------------------------------------------------------------\u001b[0m",
      "\u001b[1;31mNoSuchWindowException\u001b[0m                     Traceback (most recent call last)",
      "\u001b[1;32ma:\\Учёба\\практика 2 курс\\pars_citilink.ipynb Cell 3\u001b[0m in \u001b[0;36m<cell line: 34>\u001b[1;34m()\u001b[0m\n\u001b[0;32m     <a href='vscode-notebook-cell:/a%3A/%D0%A3%D1%87%D1%91%D0%B1%D0%B0/%D0%BF%D1%80%D0%B0%D0%BA%D1%82%D0%B8%D0%BA%D0%B0%202%20%D0%BA%D1%83%D1%80%D1%81/pars_citilink.ipynb#W1sZmlsZQ%3D%3D?line=45'>46</a>\u001b[0m         \u001b[39mpass\u001b[39;00m\n\u001b[0;32m     <a href='vscode-notebook-cell:/a%3A/%D0%A3%D1%87%D1%91%D0%B1%D0%B0/%D0%BF%D1%80%D0%B0%D0%BA%D1%82%D0%B8%D0%BA%D0%B0%202%20%D0%BA%D1%83%D1%80%D1%81/pars_citilink.ipynb#W1sZmlsZQ%3D%3D?line=51'>52</a>\u001b[0m     link_new\u001b[39m.\u001b[39mclear()\n\u001b[1;32m---> <a href='vscode-notebook-cell:/a%3A/%D0%A3%D1%87%D1%91%D0%B1%D0%B0/%D0%BF%D1%80%D0%B0%D0%BA%D1%82%D0%B8%D0%BA%D0%B0%202%20%D0%BA%D1%83%D1%80%D1%81/pars_citilink.ipynb#W1sZmlsZQ%3D%3D?line=52'>53</a>\u001b[0m driver\u001b[39m.\u001b[39;49mget(\u001b[39mf\u001b[39;49m\u001b[39m\"\u001b[39;49m\u001b[39mhttps://www.citilink.ru/catalog/televizory/?p=\u001b[39;49m\u001b[39m{\u001b[39;49;00mnum\u001b[39m+\u001b[39;49m\u001b[39m1\u001b[39;49m\u001b[39m}\u001b[39;49;00m\u001b[39m\"\u001b[39;49m)\n\u001b[0;32m     <a href='vscode-notebook-cell:/a%3A/%D0%A3%D1%87%D1%91%D0%B1%D0%B0/%D0%BF%D1%80%D0%B0%D0%BA%D1%82%D0%B8%D0%BA%D0%B0%202%20%D0%BA%D1%83%D1%80%D1%81/pars_citilink.ipynb#W1sZmlsZQ%3D%3D?line=54'>55</a>\u001b[0m \u001b[39m#try:\u001b[39;00m\n\u001b[0;32m     <a href='vscode-notebook-cell:/a%3A/%D0%A3%D1%87%D1%91%D0%B1%D0%B0/%D0%BF%D1%80%D0%B0%D0%BA%D1%82%D0%B8%D0%BA%D0%B0%202%20%D0%BA%D1%83%D1%80%D1%81/pars_citilink.ipynb#W1sZmlsZQ%3D%3D?line=55'>56</a>\u001b[0m \u001b[39m#    text = driver.find_element(By.XPATH, '/html/body/div[2]/div/main/section/div[2]/div/div/section/div[2]/div[3]/div/div[2]/a[7]/div').text\u001b[39;00m\n\u001b[0;32m     <a href='vscode-notebook-cell:/a%3A/%D0%A3%D1%87%D1%91%D0%B1%D0%B0/%D0%BF%D1%80%D0%B0%D0%BA%D1%82%D0%B8%D0%BA%D0%B0%202%20%D0%BA%D1%83%D1%80%D1%81/pars_citilink.ipynb#W1sZmlsZQ%3D%3D?line=56'>57</a>\u001b[0m \u001b[39m#    if text == 'Следующая':\u001b[39;00m\n\u001b[0;32m     <a href='vscode-notebook-cell:/a%3A/%D0%A3%D1%87%D1%91%D0%B1%D0%B0/%D0%BF%D1%80%D0%B0%D0%BA%D1%82%D0%B8%D0%BA%D0%B0%202%20%D0%BA%D1%83%D1%80%D1%81/pars_citilink.ipynb#W1sZmlsZQ%3D%3D?line=57'>58</a>\u001b[0m \u001b[39m#        driver.find_element(By.XPATH, '/html/body/div[2]/div/main/section/div[2]/div/div/section/div[2]/div[3]/div/div[2]/a[7]/div').click()\u001b[39;00m\n\u001b[0;32m     <a href='vscode-notebook-cell:/a%3A/%D0%A3%D1%87%D1%91%D0%B1%D0%B0/%D0%BF%D1%80%D0%B0%D0%BA%D1%82%D0%B8%D0%BA%D0%B0%202%20%D0%BA%D1%83%D1%80%D1%81/pars_citilink.ipynb#W1sZmlsZQ%3D%3D?line=58'>59</a>\u001b[0m \u001b[39m#except Exception:\u001b[39;00m\n\u001b[0;32m     <a href='vscode-notebook-cell:/a%3A/%D0%A3%D1%87%D1%91%D0%B1%D0%B0/%D0%BF%D1%80%D0%B0%D0%BA%D1%82%D0%B8%D0%BA%D0%B0%202%20%D0%BA%D1%83%D1%80%D1%81/pars_citilink.ipynb#W1sZmlsZQ%3D%3D?line=59'>60</a>\u001b[0m \u001b[39m#    print(\"WTF\")\u001b[39;00m\n\u001b[0;32m     <a href='vscode-notebook-cell:/a%3A/%D0%A3%D1%87%D1%91%D0%B1%D0%B0/%D0%BF%D1%80%D0%B0%D0%BA%D1%82%D0%B8%D0%BA%D0%B0%202%20%D0%BA%D1%83%D1%80%D1%81/pars_citilink.ipynb#W1sZmlsZQ%3D%3D?line=60'>61</a>\u001b[0m start_card \u001b[39m=\u001b[39m \u001b[39m1\u001b[39m\n",
      "File \u001b[1;32ma:\\python\\lib\\site-packages\\selenium\\webdriver\\remote\\webdriver.py:355\u001b[0m, in \u001b[0;36mWebDriver.get\u001b[1;34m(self, url)\u001b[0m\n\u001b[0;32m    353\u001b[0m \u001b[39mdef\u001b[39;00m \u001b[39mget\u001b[39m(\u001b[39mself\u001b[39m, url: \u001b[39mstr\u001b[39m) \u001b[39m-\u001b[39m\u001b[39m>\u001b[39m \u001b[39mNone\u001b[39;00m:\n\u001b[0;32m    354\u001b[0m \u001b[39m    \u001b[39m\u001b[39m\"\"\"Loads a web page in the current browser session.\"\"\"\u001b[39;00m\n\u001b[1;32m--> 355\u001b[0m     \u001b[39mself\u001b[39;49m\u001b[39m.\u001b[39;49mexecute(Command\u001b[39m.\u001b[39;49mGET, {\u001b[39m\"\u001b[39;49m\u001b[39murl\u001b[39;49m\u001b[39m\"\u001b[39;49m: url})\n",
      "File \u001b[1;32ma:\\python\\lib\\site-packages\\selenium\\webdriver\\remote\\webdriver.py:346\u001b[0m, in \u001b[0;36mWebDriver.execute\u001b[1;34m(self, driver_command, params)\u001b[0m\n\u001b[0;32m    344\u001b[0m response \u001b[39m=\u001b[39m \u001b[39mself\u001b[39m\u001b[39m.\u001b[39mcommand_executor\u001b[39m.\u001b[39mexecute(driver_command, params)\n\u001b[0;32m    345\u001b[0m \u001b[39mif\u001b[39;00m response:\n\u001b[1;32m--> 346\u001b[0m     \u001b[39mself\u001b[39;49m\u001b[39m.\u001b[39;49merror_handler\u001b[39m.\u001b[39;49mcheck_response(response)\n\u001b[0;32m    347\u001b[0m     response[\u001b[39m\"\u001b[39m\u001b[39mvalue\u001b[39m\u001b[39m\"\u001b[39m] \u001b[39m=\u001b[39m \u001b[39mself\u001b[39m\u001b[39m.\u001b[39m_unwrap_value(response\u001b[39m.\u001b[39mget(\u001b[39m\"\u001b[39m\u001b[39mvalue\u001b[39m\u001b[39m\"\u001b[39m, \u001b[39mNone\u001b[39;00m))\n\u001b[0;32m    348\u001b[0m     \u001b[39mreturn\u001b[39;00m response\n",
      "File \u001b[1;32ma:\\python\\lib\\site-packages\\selenium\\webdriver\\remote\\errorhandler.py:245\u001b[0m, in \u001b[0;36mErrorHandler.check_response\u001b[1;34m(self, response)\u001b[0m\n\u001b[0;32m    243\u001b[0m         alert_text \u001b[39m=\u001b[39m value[\u001b[39m\"\u001b[39m\u001b[39malert\u001b[39m\u001b[39m\"\u001b[39m]\u001b[39m.\u001b[39mget(\u001b[39m\"\u001b[39m\u001b[39mtext\u001b[39m\u001b[39m\"\u001b[39m)\n\u001b[0;32m    244\u001b[0m     \u001b[39mraise\u001b[39;00m exception_class(message, screen, stacktrace, alert_text)  \u001b[39m# type: ignore[call-arg]  # mypy is not smart enough here\u001b[39;00m\n\u001b[1;32m--> 245\u001b[0m \u001b[39mraise\u001b[39;00m exception_class(message, screen, stacktrace)\n",
      "\u001b[1;31mNoSuchWindowException\u001b[0m: Message: no such window: target window already closed\nfrom unknown error: web view not found\n  (Session info: chrome=114.0.5735.199)\nStacktrace:\nBacktrace:\n\tGetHandleVerifier [0x008DA813+48355]\n\t(No symbol) [0x0086C4B1]\n\t(No symbol) [0x00775358]\n\t(No symbol) [0x0075D293]\n\t(No symbol) [0x007BE37B]\n\t(No symbol) [0x007CC473]\n\t(No symbol) [0x007BA536]\n\t(No symbol) [0x007982DC]\n\t(No symbol) [0x007993DD]\n\tGetHandleVerifier [0x00B3AABD+2539405]\n\tGetHandleVerifier [0x00B7A78F+2800735]\n\tGetHandleVerifier [0x00B7456C+2775612]\n\tGetHandleVerifier [0x009651E0+616112]\n\t(No symbol) [0x00875F8C]\n\t(No symbol) [0x00872328]\n\t(No symbol) [0x0087240B]\n\t(No symbol) [0x00864FF7]\n\tBaseThreadInitThunk [0x76897D69+25]\n\tRtlInitializeExceptionChain [0x7757BB9B+107]\n\tRtlClearBits [0x7757BB1F+191]\n"
     ]
    }
   ],
   "source": [
    "import re\n",
    "from selenium.webdriver import Keys, ActionChains\n",
    "\n",
    "from selenium.common.exceptions import ElementClickInterceptedException\n",
    "\n",
    "import pyautogui\n",
    "import warnings\n",
    "warnings.filterwarnings(\"ignore\")\n",
    "\n",
    "\n",
    "\n",
    "options = webdriver.ChromeOptions()\n",
    "\n",
    "prefs = {\"profile.default_content_setting_values.notifications\" : 2}\n",
    "\n",
    "options.add_argument(\"user-agent=Mozilla/5.0 (Windows NT 10.0; Win64; x64) AppleWebKit/537.36 (KHTML, like Gecko) Chrome/58.0.3029.110 Safari/537.36\")\n",
    "options.add_experimental_option(\"prefs\",prefs)\n",
    "options.page_load_strategy = 'normal'\n",
    "service = Service(executable_path=\"chromedriver.exe\")\n",
    "driver = webdriver.Chrome(service=service, options=options)\n",
    "\n",
    "driver.maximize_window()\n",
    "driver.get(\"https://www.citilink.ru/catalog/televizory/?ref=mainmenu\")\n",
    "\n",
    "data_link = pd.DataFrame(columns=['link'])\n",
    "\n",
    "link_new = dict()\n",
    "link_new.clear()\n",
    "start_page = 1\n",
    "start_card = 1\n",
    "number_of_reviews = (start_page - 1) * 34\n",
    "\n",
    "\n",
    "for num in range (start_page, 12):\n",
    "    print(\"num = \", num)\n",
    "    for i in range(start_card, 49):\n",
    "        try:\n",
    "            WebDriverWait(driver, 10).until(expected_conditions.visibility_of_element_located((By.XPATH, f'/html/body/div[2]/div/main/section/div[2]/div/div/section/div[2]/div[2]/div[{i}]/div/div[3]/div[1]/a')))\n",
    "            search_box = driver.find_element(By.XPATH, f'/html/body/div[2]/div/main/section/div[2]/div/div/section/div[2]/div[2]/div[{i}]/div/div[3]/div[1]/a')\n",
    "            #print(\"1\")                                  /html/body/div[2]/div/main/section/div[2]/div/div/section/div[2]/div[2]/div[4  ]/div/div[3]/div[1]/a\n",
    "            link_new.update({'link': search_box.get_attribute(\"href\")})                         \n",
    "            data_link = data_link.append(link_new, ignore_index=True) \n",
    "            data_link.to_csv(f'./data/citilink/data_citilink_link_tv_1.csv', index=False)\n",
    "            #print(\"2\")\n",
    "        except Exception as e:\n",
    "            pass\n",
    "\n",
    "        \n",
    "\n",
    " \n",
    "\n",
    "        link_new.clear()\n",
    "    driver.get(f\"https://www.citilink.ru/catalog/televizory/?p={num+1}\")\n",
    "\n",
    "    #try:\n",
    "    #    text = driver.find_element(By.XPATH, '/html/body/div[2]/div/main/section/div[2]/div/div/section/div[2]/div[3]/div/div[2]/a[7]/div').text\n",
    "    #    if text == 'Следующая':\n",
    "    #        driver.find_element(By.XPATH, '/html/body/div[2]/div/main/section/div[2]/div/div/section/div[2]/div[3]/div/div[2]/a[7]/div').click()\n",
    "    #except Exception:\n",
    "    #    print(\"WTF\")\n",
    "    start_card = 1"
   ]
  },
  {
   "cell_type": "code",
   "execution_count": 69,
   "metadata": {},
   "outputs": [
    {
     "name": "stdout",
     "output_type": "stream",
     "text": [
      "Card: 429 FINISHED !\n",
      "Card: 430 FINISHED !\n",
      "Card: 431 FINISHED !\n",
      "Card: 432 FINISHED !\n",
      "Card: 433 FINISHED !\n",
      "Card: 434 FINISHED !\n",
      "Card: 435 FINISHED !\n",
      "Card: 436 FINISHED !\n",
      "Card: 437 FINISHED !\n",
      "Card: 438 FINISHED !\n",
      "Card: 439 FINISHED !\n",
      "Card: 440 FINISHED !\n",
      "Card: 441 FINISHED !\n",
      "Card: 442 FINISHED !\n",
      "Card: 443 FINISHED !\n",
      "Card: 444 FINISHED !\n",
      "Card: 445 FINISHED !\n",
      "Card: 446 FINISHED !\n",
      "Card: 447 FINISHED !\n",
      "Card: 448 FINISHED !\n",
      "Card: 449 FINISHED !\n",
      "Card: 450 FINISHED !\n",
      "Card: 451 FINISHED !\n",
      "Card: 452 FINISHED !\n",
      "Card: 453 FINISHED !\n",
      "Card: 454 FINISHED !\n",
      "Card: 455 FINISHED !\n",
      "Card: 456 FINISHED !\n",
      "Card: 457 FINISHED !\n",
      "Card: 458 FINISHED !\n",
      "Card: 459 FINISHED !\n",
      "Card: 460 FINISHED !\n",
      "Card: 461 FINISHED !\n",
      "Card: 462 FINISHED !\n",
      "Card: 463 FINISHED !\n",
      "Card: 464 FINISHED !\n",
      "Card: 465 FINISHED !\n",
      "Card: 466 FINISHED !\n",
      "Card: 467 FINISHED !\n",
      "Card: 468 FINISHED !\n",
      "Card: 469 FINISHED !\n",
      "Card: 470 FINISHED !\n",
      "Card: 471 FINISHED !\n",
      "Card: 472 FINISHED !\n",
      "Card: 473 FINISHED !\n",
      "Card: 474 FINISHED !\n",
      "Card: 475 FINISHED !\n",
      "Card: 476 FINISHED !\n",
      "Card: 477 FINISHED !\n",
      "Card: 478 FINISHED !\n",
      "Card: 479 FINISHED !\n",
      "Card: 480 FINISHED !\n",
      "Card: 481 FINISHED !\n",
      "Card: 482 FINISHED !\n",
      "Card: 483 FINISHED !\n",
      "Card: 484 FINISHED !\n",
      "Card: 485 FINISHED !\n",
      "Card: 486 FINISHED !\n",
      "Card: 487 FINISHED !\n",
      "Card: 488 FINISHED !\n",
      "Card: 489 FINISHED !\n",
      "Card: 490 FINISHED !\n",
      "Card: 491 FINISHED !\n",
      "Card: 492 FINISHED !\n",
      "Card: 493 FINISHED !\n",
      "Card: 494 FINISHED !\n",
      "Card: 495 FINISHED !\n",
      "Card: 496 FINISHED !\n",
      "Card: 497 FINISHED !\n",
      "Card: 498 FINISHED !\n",
      "Card: 499 FINISHED !\n",
      "Card: 500 FINISHED !\n",
      "Card: 501 FINISHED !\n",
      "Card: 502 FINISHED !\n",
      "Card: 503 FINISHED !\n",
      "Card: 504 FINISHED !\n",
      "Card: 505 FINISHED !\n",
      "Card: 506 FINISHED !\n",
      "Card: 507 FINISHED !\n",
      "Card: 508 FINISHED !\n",
      "Card: 509 FINISHED !\n",
      "Card: 510 FINISHED !\n"
     ]
    }
   ],
   "source": [
    "import re\n",
    "from selenium.webdriver import Keys, ActionChains\n",
    "from selenium.common.exceptions import ElementClickInterceptedException\n",
    "import pyautogui\n",
    "import warnings\n",
    "from selenium.webdriver.common.desired_capabilities import DesiredCapabilities\n",
    "\n",
    "warnings.filterwarnings(\"ignore\")\n",
    "\n",
    "options = webdriver.ChromeOptions()\n",
    "prefs = {\"profile.default_content_setting_values.notifications\" : 2}\n",
    "options.add_experimental_option(\"prefs\",prefs)\n",
    "options.page_load_strategy = 'eager'\n",
    "service = Service(executable_path=\"chromedriver.exe\")\n",
    "driver = webdriver.Chrome(service=service, options=options)\n",
    "\n",
    "#DesiredCapabilities.CHROME = None\n",
    "\n",
    "driver.maximize_window()\n",
    "driver.get(\"https://www.citilink.ru/catalog/televizory/?ref=mainmenu\")\n",
    "\n",
    "\n",
    "#print(\"lest go\")\n",
    "time.sleep(5)\n",
    "#print(\"3\")\n",
    "\n",
    "\n",
    "cookie = {\"name\": \"foo\", \"value\": \"bar\"}\n",
    "driver.add_cookie(cookie)\n",
    "\n",
    "\n",
    "data_link = pd.read_csv('./data/citilink/data_citilink_link_tv_1.csv')\n",
    "\n",
    "\n",
    "data = dict()\n",
    "data_full = pd.read_csv('./data/citilink/data_citilink_full_tv.csv')\n",
    "\n",
    "start_link = 'https://www.citilink.ru/product/televizor-led-digma-43-dm-led43sbb31-smart-yandeks-tv-frameless-cherny-1876133/'\n",
    "start_index = data_link[data_link['link'] == start_link].index[0]\n",
    "i = start_index\n",
    "\n",
    "driver.stop_client()\n",
    "\n",
    "for link_from_data in data_link.loc[start_index:, 'link']:\n",
    "    #print(\"1\")\n",
    "    driver.get(link_from_data)\n",
    "\n",
    "    #if \"Access to resource was blocked.\" == driver.find_element(By.XPATH, '/html/body').text.split('\\n')[0]:\n",
    "#\n",
    "    #    time.sleep(10)\n",
    "    #    driver.get(\"https://www.eldorado.ru/d/noutbuki-i-aksessuary/\")\n",
    "#\n",
    "#\n",
    "    #    #print(\"lest go\")\n",
    "    #    time.sleep(5)\n",
    "    #    #print(\"3\")\n",
    "#\n",
    "    #    #   /html/body/div[2]/div[1]/main/div/div/div[7]/div[2]/div[1]/ul/li[2]/div[2]/a\n",
    "    #    WebDriverWait(driver, 50).until(expected_conditions.visibility_of_element_located((By.XPATH, '/html/body/div[2]/div[1]/main/div/div/div[3]/div[2]/a[1]/span[1]/img')))\n",
    "    #    driver.find_element(By.XPATH, '/html/body/div[2]/div[1]/main/div/div/div[3]/div[2]/a[1]/span[1]/img').click()\n",
    "    #    continue\n",
    "\n",
    "    #print(\"2\")\n",
    "    time.sleep(2)\n",
    "    rating = ''\n",
    "    num_rating = ''\n",
    "\n",
    "    try:\n",
    "        rating = driver.find_element(By.XPATH, '/html/body/div[2]/div/main/div[1]/div[2]/div/div[3]/div/div[1]').text\n",
    "        data.update({'Рейтинг': rating})\n",
    "    except Exception:\n",
    "        pass\n",
    "    try:\n",
    "        num_rating = driver.find_element(By.XPATH, f'/html/body/div[2]/div/main/div[1]/div[2]/div/div[3]/div/div[2]/div').text\n",
    "        num_rating = num_rating.replace(' Отзывa', '')\n",
    "        num_rating = num_rating.split(' ')[0]\n",
    "    except Exception:\n",
    "        pass\n",
    "    data.update({'Количество отзывов': num_rating})\n",
    "\n",
    "    #print(rating, num_rating)\n",
    "    \n",
    "    try:\n",
    "        name = driver.find_element(By.XPATH, f'/html/body/div[2]/div/div[5]/div/div/div/div[1]/div/div[2]/div[1]/span').text\n",
    "    except Exception:\n",
    "        pass\n",
    "    try:\n",
    "        name = driver.find_element(By.XPATH, f'/html/body/div[2]/div/main/div[1]/div[2]/div/div[2]/h1').text\n",
    "    except Exception:\n",
    "        pass\n",
    "            \n",
    "\n",
    "    try:\n",
    "        price = driver.find_element(By.XPATH, '/html/body/div[2]/div/main/div[1]/div[2]/div/div[4]/div/div[3]/div/div[1]/div/div/span/span/span[1]').text\n",
    "    except Exception:\n",
    "        pass\n",
    "    try:\n",
    "        price = driver.find_element(By.XPATH, '/html/body/div[2]/div/main/div[1]/div[2]/div/div[4]/div/div[3]/div/div[2]/div/div[2]/span/span/span[1]').text\n",
    "    except Exception:                          \n",
    "        pass\n",
    "    try:\n",
    "        price = driver.find_element(By.XPATH, '/html/body/div[2]/div/main/div[1]/div[2]/div/div[4]/div/div[3]/div/div[2]/div/div/span/span/span[1]').text\n",
    "    except Exception:                          \n",
    "        pass\n",
    "\n",
    "    try:\n",
    "        price = driver.find_element(By.XPATH, '/html/body/div[2]/div/main/div[1]/div[2]/div/div[4]/div/div[3]/div/div[1]/div/div[1]/span').text\n",
    "    except Exception:                          \n",
    "        pass\n",
    "\n",
    "    \n",
    "\n",
    "    \n",
    "    #print(name, price)\n",
    "    data.update({\"Название\": name, \"Цена\": price})\n",
    "\n",
    "    if price == 'Нет в наличии':\n",
    "        WebDriverWait(driver, 10).until(expected_conditions.visibility_of_element_located((By.XPATH, '/html/body/div[2]/div/main/div[1]/div[2]/div/div[4]/div/div[2]/div/div[1]/div[2]/button/span/span[1]')))\n",
    "        driver.find_element(By.XPATH, '/html/body/div[2]/div/main/div[1]/div[2]/div/div[4]/div/div[2]/div/div[1]/div[2]/button/span/span[1]').click()\n",
    "    else:\n",
    "        WebDriverWait(driver, 10).until(expected_conditions.visibility_of_element_located((By.XPATH, '/html/body/div[2]/div/main/div[1]/div[3]/div[1]/div/div/div/div/a[2]/div')))\n",
    "        driver.find_element(By.XPATH, '/html/body/div[2]/div/main/div[1]/div[3]/div[1]/div/div/div/div/a[2]/div').click()\n",
    "\n",
    "    \n",
    "    try :\n",
    "        WebDriverWait(driver, 3).until(expected_conditions.visibility_of_element_located((By.XPATH, '/html/body/div[2]/div/main/div[1]/div[3]/div[2]/div/div/div[1]/ul/li[2]/div[2]/div/span/span')))\n",
    "        param = driver.find_element(By.XPATH, f'/html/body/div[2]/div/main/div[1]/div[3]/div[2]/div/div/div[1]/ul/li[1]/div/div/span/span').text\n",
    "        value = driver.find_element(By.XPATH, f'/html/body/div[2]/div/main/div[1]/div[3]/div[2]/div/div/div[1]/ul/li[1]/div/span/span').text\n",
    "        data.update({param: value})\n",
    "    except Exception:\n",
    "        pass\n",
    "                                   \n",
    "    for j in range(2,20):\n",
    "        for k in range(1, 15):\n",
    "            try:\n",
    "                param = driver.find_element(By.XPATH, f'/html/body/div[2]/div/main/div[1]/div[3]/div[2]/div/div/div[1]/ul/li[{j}]/div[{k}]/div/span/span').text\n",
    "                value = driver.find_element(By.XPATH, f'/html/body/div[2]/div/main/div[1]/div[3]/div[2]/div/div/div[1]/ul/li[{j}]/div[{k}]/span/span').text\n",
    "                                                       #/html/body/div[2]/div/main/div[1]/div[4]/div[2]/div/div/div[1]/ul/li[1]/div[1]/div/span/span\n",
    "\n",
    "                #value = value.replace('\\n', '')\n",
    "                #value = value.replace(\"Другие товары\", \"\")\n",
    "                \n",
    "                #print(param,\" : \", value)\n",
    "                data.update({param: value})\n",
    "            except Exception:\n",
    "                pass\n",
    "                #print(\"Элемент не найден\")\n",
    "\n",
    "            #try:\n",
    "            #    \n",
    "            #    param = driver.find_element(By.XPATH, f'/html/body/div[12]/div[1]/div[2]/div[2]/div[6]/div/div[2]/table/tbody/tr[{j}]/td[1]').text\n",
    "            #    value = driver.find_element(By.XPATH, f'/html/body/div[12]/div[1]/div[2]/div[2]/div[6]/div/div[2]/table/tbody/tr[{j}]/td[2]').text\n",
    "            #    value = value.replace('\\n', '')\n",
    "            #    value = value.replace(\"Другие товары\", \"\")\n",
    "            #    \n",
    "            #    #print(param,\" : \", value)\n",
    "            #    data.update({param: value})\n",
    "            #except Exception:\n",
    "            #    pass\n",
    "            #    #print(\"Элемент не найден\")\n",
    "\n",
    "    data_full = data_full.append(data, ignore_index=True) \n",
    "    i += 1\n",
    "    if i % 10 == 0:\n",
    "        data_full.to_csv(f'./data/citilink/data_citilink_full_tv{i}.csv', index=False)\n",
    "    data.clear()\n",
    "    print(f\"Card: {i} FINISHED !\")"
   ]
  },
  {
   "cell_type": "code",
   "execution_count": 37,
   "metadata": {},
   "outputs": [],
   "source": [
    "price = driver.find_element(By.XPATH, '/html/body/div[2]/div/main/div[1]/div[2]/div/div[4]/div/div[3]/div/div[1]/div/div[1]/span').text"
   ]
  },
  {
   "cell_type": "code",
   "execution_count": 38,
   "metadata": {},
   "outputs": [
    {
     "data": {
      "text/plain": [
       "'Нет в наличии'"
      ]
     },
     "execution_count": 38,
     "metadata": {},
     "output_type": "execute_result"
    }
   ],
   "source": [
    "price"
   ]
  },
  {
   "cell_type": "code",
   "execution_count": 28,
   "metadata": {},
   "outputs": [
    {
     "data": {
      "text/plain": [
       "'51'"
      ]
     },
     "execution_count": 28,
     "metadata": {},
     "output_type": "execute_result"
    }
   ],
   "source": [
    "num_rating = driver.find_element(By.XPATH, f'/html/body/div[2]/div/main/div[1]/div[2]/div/div[3]/div/div[2]/div').text\n",
    "num_rating= num_rating.split(' ')[0]\n",
    "num_rating"
   ]
  },
  {
   "cell_type": "code",
   "execution_count": 15,
   "metadata": {},
   "outputs": [],
   "source": [
    "#   /html/body/div[2]/div/main/div[1]/div[3]/div[2]/div/div/div[1]/ul/li[1]/div[1]/div/span/span\n",
    "#   /html/body/div[2]/div/main/div[1]/div[3]/div[2]/div/div/div[1]/ul/li[1]/div[2]/div/span/span\n",
    "#   /html/body/div[2]/div/main/div[1]/div[3]/div[2]/div/div/div[1]/ul/li[1]/div[1]/span/span\n",
    "param = driver.find_element(By.XPATH, f'/html/body/div[2]/div/main/div[1]/div[3]/div[2]/div/div/div[1]/ul/li[1]/div[1]/div/span/span').text\n",
    "value = driver.find_element(By.XPATH, f'/html/body/div[2]/div/main/div[1]/div[3]/div[2]/div/div/div[1]/ul/li[1]/div[1]/span/span').text"
   ]
  },
  {
   "cell_type": "code",
   "execution_count": 16,
   "metadata": {},
   "outputs": [
    {
     "data": {
      "text/plain": [
       "('Бренд', 'LG')"
      ]
     },
     "execution_count": 16,
     "metadata": {},
     "output_type": "execute_result"
    }
   ],
   "source": [
    "param, value"
   ]
  },
  {
   "cell_type": "code",
   "execution_count": 12,
   "metadata": {},
   "outputs": [
    {
     "data": {
      "text/plain": [
       "'1'"
      ]
     },
     "execution_count": 12,
     "metadata": {},
     "output_type": "execute_result"
    }
   ],
   "source": [
    "text = driver.find_element(By.XPATH, f'/html/body/div[2]/div/main/div[1]/div[2]/div/div[3]/div/div[2]/div').text\n",
    "text = text.replace(' Отзыв', '')\n",
    "text"
   ]
  },
  {
   "cell_type": "code",
   "execution_count": 13,
   "metadata": {},
   "outputs": [
    {
     "data": {
      "text/plain": [
       "'50\" Телевизор LG 50UQ76003LD, 4K Ultra HD, темный металлик, СМАРТ ТВ, WebOS'"
      ]
     },
     "execution_count": 13,
     "metadata": {},
     "output_type": "execute_result"
    }
   ],
   "source": [
    "name = driver.find_element(By.XPATH, f'/html/body/div[2]/div/div[5]/div/div/div/div[1]/div/div[2]/div[1]/span').text\n",
    "name"
   ]
  },
  {
   "cell_type": "code",
   "execution_count": 14,
   "metadata": {},
   "outputs": [
    {
     "data": {
      "text/plain": [
       "'49 990'"
      ]
     },
     "execution_count": 14,
     "metadata": {},
     "output_type": "execute_result"
    }
   ],
   "source": [
    "driver.find_element(By.XPATH, '/html/body/div[2]/div/main/div[1]/div[2]/div/div[4]/div/div[3]/div/div[1]/div/div/span/span/span[1]').text"
   ]
  }
 ],
 "metadata": {
  "kernelspec": {
   "display_name": "Python 3",
   "language": "python",
   "name": "python3"
  },
  "language_info": {
   "codemirror_mode": {
    "name": "ipython",
    "version": 3
   },
   "file_extension": ".py",
   "mimetype": "text/x-python",
   "name": "python",
   "nbconvert_exporter": "python",
   "pygments_lexer": "ipython3",
   "version": "3.10.5"
  },
  "orig_nbformat": 4
 },
 "nbformat": 4,
 "nbformat_minor": 2
}
